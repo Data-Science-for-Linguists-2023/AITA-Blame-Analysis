{
 "cells": [
  {
   "cell_type": "markdown",
   "id": "3ea16eaf",
   "metadata": {},
   "source": [
    "# Data Analysis Experiment: Machine Learning"
   ]
  },
  {
   "cell_type": "markdown",
   "id": "c0293978",
   "metadata": {},
   "source": [
    "[View this notebook in nbviewer](https://nbviewer.org/github/Data-Science-for-Linguists-2023/AITA-Blame-Analysis/blob/main/code/data_analysis_experiments.ipynb)"
   ]
  },
  {
   "cell_type": "markdown",
   "id": "129a567a",
   "metadata": {},
   "source": [
    "Note: The contents of this notebook ultimately showcase that training a classification model on this data is difficult and provides results only marginally above the base accuracy. However, I decided to still include this notebook as it showcases some meaningful problem solving strategies and critical thinking about the issues presented. Someday, I may return to this project and attempt again to generate results from a machine learning model."
   ]
  },
  {
   "cell_type": "markdown",
   "id": "94bf306f",
   "metadata": {},
   "source": [
    "## Set Up"
   ]
  },
  {
   "cell_type": "code",
   "execution_count": 1,
   "id": "ca4aeb2a",
   "metadata": {},
   "outputs": [],
   "source": [
    "import numpy as np\n",
    "import pandas as pd\n",
    "import nltk\n",
    "import matplotlib.pyplot as plt\n",
    "import seaborn as sns\n",
    "import sklearn\n",
    "from sklearn.feature_extraction.text import TfidfVectorizer\n",
    "from sklearn.naive_bayes import MultinomialNB\n",
    "from sklearn.model_selection import StratifiedKFold\n",
    "from sklearn.metrics import accuracy_score"
   ]
  },
  {
   "cell_type": "markdown",
   "id": "9b63f284",
   "metadata": {},
   "source": [
    "As the size of this data set is already fairly limited, I intend to use a stratified K-fold to analyze the success of the models I build on a larger set of testing data than if I were to split the corpus into training and testing sets normally."
   ]
  },
  {
   "cell_type": "code",
   "execution_count": 2,
   "id": "5557b8fa",
   "metadata": {},
   "outputs": [],
   "source": [
    "analysis_df = pd.read_csv('../data/aita_data.csv')"
   ]
  },
  {
   "cell_type": "code",
   "execution_count": 3,
   "id": "1d57cfa1",
   "metadata": {},
   "outputs": [
    {
     "data": {
      "text/html": [
       "<div>\n",
       "<style scoped>\n",
       "    .dataframe tbody tr th:only-of-type {\n",
       "        vertical-align: middle;\n",
       "    }\n",
       "\n",
       "    .dataframe tbody tr th {\n",
       "        vertical-align: top;\n",
       "    }\n",
       "\n",
       "    .dataframe thead th {\n",
       "        text-align: right;\n",
       "    }\n",
       "</style>\n",
       "<table border=\"1\" class=\"dataframe\">\n",
       "  <thead>\n",
       "    <tr style=\"text-align: right;\">\n",
       "      <th></th>\n",
       "      <th>Unnamed: 0</th>\n",
       "      <th>AuthorID</th>\n",
       "      <th>Title</th>\n",
       "      <th>Text</th>\n",
       "      <th>Ruling</th>\n",
       "      <th>CommentCount</th>\n",
       "      <th>Score</th>\n",
       "      <th>UpvoteRatio</th>\n",
       "    </tr>\n",
       "  </thead>\n",
       "  <tbody>\n",
       "    <tr>\n",
       "      <th>0</th>\n",
       "      <td>0</td>\n",
       "      <td>1</td>\n",
       "      <td>AITA for sleeping during the day?</td>\n",
       "      <td>I honestly thought what I was doing was fine, ...</td>\n",
       "      <td>Not the A-hole</td>\n",
       "      <td>34</td>\n",
       "      <td>7</td>\n",
       "      <td>0.82</td>\n",
       "    </tr>\n",
       "    <tr>\n",
       "      <th>1</th>\n",
       "      <td>2</td>\n",
       "      <td>0</td>\n",
       "      <td>AITAH for refusing to change out of my semi-se...</td>\n",
       "      <td>My boyfriend was FaceTiming his cousin and his...</td>\n",
       "      <td>Not the A-hole</td>\n",
       "      <td>23</td>\n",
       "      <td>8</td>\n",
       "      <td>0.78</td>\n",
       "    </tr>\n",
       "    <tr>\n",
       "      <th>2</th>\n",
       "      <td>6</td>\n",
       "      <td>2</td>\n",
       "      <td>AITA for not helping my neighbor?</td>\n",
       "      <td>I (M26) live in a large apartment complex with...</td>\n",
       "      <td>Not the A-hole</td>\n",
       "      <td>253</td>\n",
       "      <td>1016</td>\n",
       "      <td>0.97</td>\n",
       "    </tr>\n",
       "    <tr>\n",
       "      <th>3</th>\n",
       "      <td>9</td>\n",
       "      <td>3</td>\n",
       "      <td>AITA for threatening to lock my housemate's wi...</td>\n",
       "      <td>I'll keep it short; my housemate moved in arou...</td>\n",
       "      <td>Everyone Sucks</td>\n",
       "      <td>34</td>\n",
       "      <td>4</td>\n",
       "      <td>0.76</td>\n",
       "    </tr>\n",
       "    <tr>\n",
       "      <th>4</th>\n",
       "      <td>25</td>\n",
       "      <td>4</td>\n",
       "      <td>AITA for allowing my bio dad and his wife to b...</td>\n",
       "      <td>I found out that I am pregnant about 5 1/2 mon...</td>\n",
       "      <td>Not the A-hole</td>\n",
       "      <td>62</td>\n",
       "      <td>46</td>\n",
       "      <td>0.88</td>\n",
       "    </tr>\n",
       "  </tbody>\n",
       "</table>\n",
       "</div>"
      ],
      "text/plain": [
       "   Unnamed: 0  AuthorID                                              Title  \\\n",
       "0           0         1                  AITA for sleeping during the day?   \n",
       "1           2         0  AITAH for refusing to change out of my semi-se...   \n",
       "2           6         2                  AITA for not helping my neighbor?   \n",
       "3           9         3  AITA for threatening to lock my housemate's wi...   \n",
       "4          25         4  AITA for allowing my bio dad and his wife to b...   \n",
       "\n",
       "                                                Text          Ruling  \\\n",
       "0  I honestly thought what I was doing was fine, ...  Not the A-hole   \n",
       "1  My boyfriend was FaceTiming his cousin and his...  Not the A-hole   \n",
       "2  I (M26) live in a large apartment complex with...  Not the A-hole   \n",
       "3  I'll keep it short; my housemate moved in arou...  Everyone Sucks   \n",
       "4  I found out that I am pregnant about 5 1/2 mon...  Not the A-hole   \n",
       "\n",
       "   CommentCount  Score  UpvoteRatio  \n",
       "0            34      7         0.82  \n",
       "1            23      8         0.78  \n",
       "2           253   1016         0.97  \n",
       "3            34      4         0.76  \n",
       "4            62     46         0.88  "
      ]
     },
     "execution_count": 3,
     "metadata": {},
     "output_type": "execute_result"
    }
   ],
   "source": [
    "analysis_df.head()"
   ]
  },
  {
   "cell_type": "code",
   "execution_count": 4,
   "id": "6c077768",
   "metadata": {},
   "outputs": [
    {
     "name": "stdout",
     "output_type": "stream",
     "text": [
      "<class 'pandas.core.frame.DataFrame'>\n",
      "RangeIndex: 9414 entries, 0 to 9413\n",
      "Data columns (total 8 columns):\n",
      " #   Column        Non-Null Count  Dtype  \n",
      "---  ------        --------------  -----  \n",
      " 0   Unnamed: 0    9414 non-null   int64  \n",
      " 1   AuthorID      9414 non-null   int64  \n",
      " 2   Title         9414 non-null   object \n",
      " 3   Text          9414 non-null   object \n",
      " 4   Ruling        9414 non-null   object \n",
      " 5   CommentCount  9414 non-null   int64  \n",
      " 6   Score         9414 non-null   int64  \n",
      " 7   UpvoteRatio   9414 non-null   float64\n",
      "dtypes: float64(1), int64(4), object(3)\n",
      "memory usage: 588.5+ KB\n"
     ]
    }
   ],
   "source": [
    "analysis_df.info()"
   ]
  },
  {
   "cell_type": "code",
   "execution_count": 5,
   "id": "5c58de5a",
   "metadata": {},
   "outputs": [
    {
     "data": {
      "text/plain": [
       "Not the A-hole     7180\n",
       "Asshole            1399\n",
       "No A-holes here     471\n",
       "Everyone Sucks      364\n",
       "Name: Ruling, dtype: int64"
      ]
     },
     "execution_count": 5,
     "metadata": {},
     "output_type": "execute_result"
    }
   ],
   "source": [
    "analysis_df.Ruling.value_counts()"
   ]
  },
  {
   "cell_type": "code",
   "execution_count": 6,
   "id": "78a3744d",
   "metadata": {
    "scrolled": false
   },
   "outputs": [
    {
     "data": {
      "image/png": "[encoded data removed]",
      "text/plain": [
       "<Figure size 640x480 with 1 Axes>"
      ]
     },
     "metadata": {},
     "output_type": "display_data"
    }
   ],
   "source": [
    "rulings_graph = plt.pie(analysis_df.Ruling.value_counts(), labels=[\"Not the A-hole\", \"Asshole\", \"No A-holes here\", \"Everyone Sucks\"])\n",
    "plt.show()"
   ]
  },
  {
   "cell_type": "markdown",
   "id": "1bbfc1a7",
   "metadata": {},
   "source": [
    "From this breakdown of the posts, I am weary of the possible results skewing incredibly heavily toward Not the A-hole. Is there enough data on Everyone Sucks and No A-holes here to have them represented in the predictions?"
   ]
  },
  {
   "cell_type": "markdown",
   "id": "747931f2",
   "metadata": {},
   "source": [
    "## Question: How similarly, and therefore predictably, are posts of a given ruling written?"
   ]
  },
  {
   "cell_type": "markdown",
   "id": "36ce4f10",
   "metadata": {},
   "source": [
    "### Practically: How accurate of a machine learning classification model can I generate from just the text in this corpus?"
   ]
  },
  {
   "cell_type": "markdown",
   "id": "02d72eaa",
   "metadata": {},
   "source": [
    "### Using MultinomialNB on all data"
   ]
  },
  {
   "cell_type": "code",
   "execution_count": 7,
   "id": "e4a47a39",
   "metadata": {},
   "outputs": [],
   "source": [
    "docs = analysis_df[\"Text\"]\n",
    "outputs = analysis_df[\"Ruling\"]\n",
    "titles = analysis_df[\"Title\"]\n",
    "skf = StratifiedKFold(n_splits=10)"
   ]
  },
  {
   "cell_type": "code",
   "execution_count": 8,
   "id": "26b8f2f5",
   "metadata": {},
   "outputs": [],
   "source": [
    "accuracy_scores = []\n",
    "total_pred = []\n",
    "total_test = []"
   ]
  },
  {
   "cell_type": "code",
   "execution_count": 9,
   "id": "b87baf4b",
   "metadata": {},
   "outputs": [],
   "source": [
    "for train_idx, test_idx in skf.split(docs, outputs):\n",
    "    x_train, x_test = docs.iloc[train_idx], docs.iloc[test_idx]\n",
    "    y_train, y_test = outputs.iloc[train_idx], outputs.iloc[test_idx]\n",
    "    \n",
    "    vectorizer = TfidfVectorizer(max_features=1500, stop_words=\"english\")\n",
    "    X_train_tfidf = vectorizer.fit_transform(x_train)\n",
    "    X_test_tfidf = vectorizer.transform(x_test)\n",
    "    \n",
    "    nbclass = MultinomialNB()\n",
    "    nbclass.fit(X_train_tfidf, y_train)\n",
    "    y_pred = nbclass.predict(X_test_tfidf)\n",
    "    \n",
    "    accuracy_scores.append(accuracy_score(y_test, y_pred))\n",
    "    total_pred.extend(y_pred)\n",
    "    total_test.extend(y_test)"
   ]
  },
  {
   "cell_type": "code",
   "execution_count": 10,
   "id": "897e8e6d",
   "metadata": {},
   "outputs": [
    {
     "data": {
      "text/plain": [
       "[0.7622080679405521,\n",
       " 0.7622080679405521,\n",
       " 0.7622080679405521,\n",
       " 0.7622080679405521,\n",
       " 0.7630180658873539,\n",
       " 0.7630180658873539,\n",
       " 0.7630180658873539,\n",
       " 0.7630180658873539,\n",
       " 0.7630180658873539,\n",
       " 0.7630180658873539]"
      ]
     },
     "execution_count": 10,
     "metadata": {},
     "output_type": "execute_result"
    }
   ],
   "source": [
    "accuracy_scores"
   ]
  },
  {
   "cell_type": "markdown",
   "id": "737f28a3",
   "metadata": {},
   "source": [
    "If the data set was comprised of equal numbers of posts per ruling, the base accuracy here would be 25%. However, because the data set maintains such a higher number of Not the A-hole posts, I presume this statistic is inflated by overpredicting Not the A-hole. The precision on the model looks promising, though,"
   ]
  },
  {
   "cell_type": "code",
   "execution_count": 11,
   "id": "4dd732ce",
   "metadata": {},
   "outputs": [
    {
     "data": {
      "text/plain": [
       "{'Not the A-hole'}"
      ]
     },
     "execution_count": 11,
     "metadata": {},
     "output_type": "execute_result"
    }
   ],
   "source": [
    "set(total_pred)"
   ]
  },
  {
   "cell_type": "markdown",
   "id": "d2a8eb45",
   "metadata": {},
   "source": [
    "And as it turns out, this is the statistic for when you _only_ guess Not the A-hole! So even though numerically it looks like a success, the model isn't really doing anything! Let's try a few tweaks to try and heighten the accuracy. I'm going to increase the number of features and include bigrams to try and get more variance in the features included for each ruling."
   ]
  },
  {
   "cell_type": "code",
   "execution_count": 12,
   "id": "244fbf2e",
   "metadata": {},
   "outputs": [],
   "source": [
    "accuracy_scores = []\n",
    "total_pred = []\n",
    "total_test = []"
   ]
  },
  {
   "cell_type": "code",
   "execution_count": 13,
   "id": "8fe967b8",
   "metadata": {},
   "outputs": [],
   "source": [
    "for train_idx, test_idx in skf.split(docs, outputs):\n",
    "    x_train, x_test = docs.iloc[train_idx], docs.iloc[test_idx]\n",
    "    y_train, y_test = outputs.iloc[train_idx], outputs.iloc[test_idx]\n",
    "    \n",
    "    vectorizer = TfidfVectorizer(max_features=5000, stop_words=None, ngram_range=(1,2))\n",
    "    X_train_tfidf = vectorizer.fit_transform(x_train)\n",
    "    X_test_tfidf = vectorizer.transform(x_test)\n",
    "    \n",
    "    nbclass = MultinomialNB()\n",
    "    nbclass.fit(X_train_tfidf, y_train)\n",
    "    y_pred = nbclass.predict(X_test_tfidf)\n",
    "    \n",
    "    accuracy_scores.append(accuracy_score(y_test, y_pred))\n",
    "    total_pred.extend(y_pred)\n",
    "    total_test.extend(y_test)"
   ]
  },
  {
   "cell_type": "code",
   "execution_count": 14,
   "id": "bed54ca0",
   "metadata": {},
   "outputs": [
    {
     "data": {
      "text/plain": [
       "[0.7622080679405521,\n",
       " 0.7622080679405521,\n",
       " 0.7622080679405521,\n",
       " 0.7622080679405521,\n",
       " 0.7630180658873539,\n",
       " 0.7630180658873539,\n",
       " 0.7630180658873539,\n",
       " 0.7630180658873539,\n",
       " 0.7630180658873539,\n",
       " 0.7630180658873539]"
      ]
     },
     "execution_count": 14,
     "metadata": {},
     "output_type": "execute_result"
    }
   ],
   "source": [
    "accuracy_scores"
   ]
  },
  {
   "cell_type": "code",
   "execution_count": 15,
   "id": "8d39d7d2",
   "metadata": {},
   "outputs": [
    {
     "data": {
      "text/plain": [
       "{'Not the A-hole'}"
      ]
     },
     "execution_count": 15,
     "metadata": {},
     "output_type": "execute_result"
    }
   ],
   "source": [
    "set(total_pred)"
   ]
  },
  {
   "cell_type": "markdown",
   "id": "26463b19",
   "metadata": {},
   "source": [
    "Still nothing!"
   ]
  },
  {
   "cell_type": "markdown",
   "id": "109747a8",
   "metadata": {},
   "source": [
    "### Using MultinomialNB on subset of data"
   ]
  },
  {
   "cell_type": "markdown",
   "id": "826c8026",
   "metadata": {},
   "source": [
    "Because of how skewed the data set is, I don't think it is possible to tune a model that really factors in the other rulings, especially when using a method such as K-Fold which randomizes the number of each ruling there is within a particular test. It isn't impossible that there are some groups that do not even have a No A-holes Here or Everything Sucks post.\n",
    "\n",
    "As such, I am narrowing this portion of the project to only be concerned about the binary of Asshole versus Not the A-hole. To make it more fair, I am going to take a random sample of Not the A-hole posts equal to the number of total Asshole posts to create an even subset of data."
   ]
  },
  {
   "cell_type": "code",
   "execution_count": 16,
   "id": "64b39f17",
   "metadata": {
    "scrolled": true
   },
   "outputs": [
    {
     "name": "stdout",
     "output_type": "stream",
     "text": [
      "<class 'pandas.core.frame.DataFrame'>\n",
      "Int64Index: 1399 entries, 2525 to 5436\n",
      "Data columns (total 8 columns):\n",
      " #   Column        Non-Null Count  Dtype  \n",
      "---  ------        --------------  -----  \n",
      " 0   Unnamed: 0    1399 non-null   int64  \n",
      " 1   AuthorID      1399 non-null   int64  \n",
      " 2   Title         1399 non-null   object \n",
      " 3   Text          1399 non-null   object \n",
      " 4   Ruling        1399 non-null   object \n",
      " 5   CommentCount  1399 non-null   int64  \n",
      " 6   Score         1399 non-null   int64  \n",
      " 7   UpvoteRatio   1399 non-null   float64\n",
      "dtypes: float64(1), int64(4), object(3)\n",
      "memory usage: 98.4+ KB\n"
     ]
    }
   ],
   "source": [
    "yta_nta_df = analysis_df[analysis_df[\"Ruling\"] == \"Not the A-hole\"].sample(n=1399)\n",
    "yta_nta_df.info()"
   ]
  },
  {
   "cell_type": "code",
   "execution_count": 17,
   "id": "e3532c71",
   "metadata": {},
   "outputs": [
    {
     "data": {
      "text/plain": [
       "Not the A-hole    1399\n",
       "Name: Ruling, dtype: int64"
      ]
     },
     "execution_count": 17,
     "metadata": {},
     "output_type": "execute_result"
    }
   ],
   "source": [
    "yta_nta_df[\"Ruling\"].value_counts()"
   ]
  },
  {
   "cell_type": "code",
   "execution_count": 18,
   "id": "8a3389f8",
   "metadata": {},
   "outputs": [
    {
     "name": "stdout",
     "output_type": "stream",
     "text": [
      "<class 'pandas.core.frame.DataFrame'>\n",
      "Int64Index: 2798 entries, 2525 to 9409\n",
      "Data columns (total 8 columns):\n",
      " #   Column        Non-Null Count  Dtype  \n",
      "---  ------        --------------  -----  \n",
      " 0   Unnamed: 0    2798 non-null   int64  \n",
      " 1   AuthorID      2798 non-null   int64  \n",
      " 2   Title         2798 non-null   object \n",
      " 3   Text          2798 non-null   object \n",
      " 4   Ruling        2798 non-null   object \n",
      " 5   CommentCount  2798 non-null   int64  \n",
      " 6   Score         2798 non-null   int64  \n",
      " 7   UpvoteRatio   2798 non-null   float64\n",
      "dtypes: float64(1), int64(4), object(3)\n",
      "memory usage: 196.7+ KB\n"
     ]
    }
   ],
   "source": [
    "yta_nta_df = pd.concat([yta_nta_df,\n",
    "                        analysis_df[analysis_df[\"Ruling\"] == \"Asshole\"]])\n",
    "yta_nta_df.info()"
   ]
  },
  {
   "cell_type": "code",
   "execution_count": 19,
   "id": "27892b46",
   "metadata": {},
   "outputs": [
    {
     "data": {
      "text/plain": [
       "Not the A-hole    1399\n",
       "Asshole           1399\n",
       "Name: Ruling, dtype: int64"
      ]
     },
     "execution_count": 19,
     "metadata": {},
     "output_type": "execute_result"
    }
   ],
   "source": [
    "yta_nta_df.Ruling.value_counts()"
   ]
  },
  {
   "cell_type": "markdown",
   "id": "fa13e45b",
   "metadata": {},
   "source": [
    "I will make a function to run through the model so that I can more easily try a variety of parameters to see if I can improve the model at all."
   ]
  },
  {
   "cell_type": "code",
   "execution_count": 20,
   "id": "a36eb074",
   "metadata": {},
   "outputs": [],
   "source": [
    "def test_nb_accuracies(vectorizer, df):\n",
    "    docs = df[\"Text\"]\n",
    "    outputs = df[\"Ruling\"]\n",
    "    skf = StratifiedKFold(n_splits=5)\n",
    "    \n",
    "    accuracy_scores = []\n",
    "    total_pred = []\n",
    "    total_test = []\n",
    "\n",
    "    for train_idx, test_idx in skf.split(docs, outputs):\n",
    "        x_train, x_test = docs.iloc[train_idx], docs.iloc[test_idx]\n",
    "        y_train, y_test = outputs.iloc[train_idx], outputs.iloc[test_idx]\n",
    "\n",
    "        X_train_tfidf = vectorizer.fit_transform(x_train)\n",
    "        X_test_tfidf = vectorizer.transform(x_test)\n",
    "\n",
    "        nbclass = MultinomialNB()\n",
    "        nbclass.fit(X_train_tfidf, y_train)\n",
    "        y_pred = nbclass.predict(X_test_tfidf)\n",
    "\n",
    "        accuracy_scores.append(accuracy_score(y_test, y_pred))\n",
    "        total_pred.extend(y_pred)\n",
    "        total_test.extend(y_test)\n",
    "    \n",
    "    return accuracy_scores, total_pred, total_test"
   ]
  },
  {
   "cell_type": "code",
   "execution_count": 21,
   "id": "db57ffb3",
   "metadata": {},
   "outputs": [
    {
     "name": "stdout",
     "output_type": "stream",
     "text": [
      "{'Asshole', 'Not the A-hole'}\n",
      "[0.5553571428571429, 0.5714285714285714, 0.5821428571428572, 0.6010733452593918, 0.5796064400715564]\n",
      "0.577921671351904\n"
     ]
    }
   ],
   "source": [
    "accuracy_scores, total_pred, total_test = test_nb_accuracies(TfidfVectorizer(max_features=1500, stop_words=\"english\"), yta_nta_df)\n",
    "print(set(total_pred))\n",
    "print(accuracy_scores)\n",
    "print(np.average(accuracy_scores))"
   ]
  },
  {
   "cell_type": "markdown",
   "id": "2429883f",
   "metadata": {},
   "source": [
    "57.8% accuracy is slightly better than the base accuracy..."
   ]
  },
  {
   "cell_type": "code",
   "execution_count": 22,
   "id": "3a418f82",
   "metadata": {},
   "outputs": [
    {
     "name": "stdout",
     "output_type": "stream",
     "text": [
      "[0.5517857142857143, 0.5607142857142857, 0.5446428571428571, 0.5706618962432916, 0.5796064400715564]\n",
      "0.561482238691541\n"
     ]
    }
   ],
   "source": [
    "accuracy_scores, total_pred, total_test = test_nb_accuracies(TfidfVectorizer(max_features=7500, stop_words=\"english\"), yta_nta_df)\n",
    "print(accuracy_scores)\n",
    "print(np.average(accuracy_scores))"
   ]
  },
  {
   "cell_type": "code",
   "execution_count": 23,
   "id": "06a08719",
   "metadata": {
    "scrolled": true
   },
   "outputs": [
    {
     "name": "stdout",
     "output_type": "stream",
     "text": [
      "[0.5410714285714285, 0.5714285714285714, 0.5571428571428572, 0.5706618962432916, 0.5617173524150268]\n",
      "0.560404421160235\n"
     ]
    }
   ],
   "source": [
    "accuracy_scores, total_pred, total_test = test_nb_accuracies(TfidfVectorizer(max_features=10000, stop_words=\"english\", ngram_range=(1,2)), yta_nta_df)\n",
    "print(accuracy_scores)\n",
    "print(np.average(accuracy_scores))"
   ]
  },
  {
   "cell_type": "code",
   "execution_count": 24,
   "id": "71c82c70",
   "metadata": {
    "scrolled": true
   },
   "outputs": [
    {
     "name": "stdout",
     "output_type": "stream",
     "text": [
      "[0.55, 0.5660714285714286, 0.5732142857142857, 0.5974955277280859, 0.5796064400715564]\n",
      "0.5732775364170714\n"
     ]
    }
   ],
   "source": [
    "accuracy_scores, total_pred, total_test = test_nb_accuracies(TfidfVectorizer(max_features=10000, stop_words=None, ngram_range=(1,2)), yta_nta_df)\n",
    "print(accuracy_scores)\n",
    "print(np.average(accuracy_scores))"
   ]
  },
  {
   "cell_type": "code",
   "execution_count": 106,
   "id": "1c01a6a8",
   "metadata": {},
   "outputs": [
    {
     "data": {
      "image/png": "[encoded data removed]",
      "text/plain": [
       "<Figure size 640x480 with 2 Axes>"
      ]
     },
     "metadata": {},
     "output_type": "display_data"
    }
   ],
   "source": [
    "from sklearn.metrics import confusion_matrix\n",
    "mat = confusion_matrix(total_test, total_pred)\n",
    "sns.heatmap(mat, square=True, annot=True, fmt=\"d\", cmap=\"Reds\", xticklabels=[\"Asshole\", \"Not the A-hole\"], yticklabels=[\"Asshole\", \"Not the A-hole\"])\n",
    "plt.xlabel(\"Predicted Ruling\")\n",
    "plt.ylabel(\"Actual Ruling\")\n",
    "plt.savefig('../figures/classification_succes.png')\n",
    "plt.show()"
   ]
  },
  {
   "cell_type": "markdown",
   "id": "36993904",
   "metadata": {},
   "source": [
    "I can't seem to find a combination of parameters that reaches above 60%. From the heatmap, the model is guessing either ruling roughly equally. It's an improvement from the start, but still could be significantly better. I wonder if using SVC will improve it?"
   ]
  },
  {
   "cell_type": "markdown",
   "id": "af121778",
   "metadata": {},
   "source": [
    "### Using SVC on subset of data"
   ]
  },
  {
   "cell_type": "code",
   "execution_count": 26,
   "id": "5eff0e10",
   "metadata": {},
   "outputs": [],
   "source": [
    "from sklearn.svm import SVC"
   ]
  },
  {
   "cell_type": "code",
   "execution_count": 27,
   "id": "3daa9f75",
   "metadata": {},
   "outputs": [],
   "source": [
    "def test_svc_accuracies(vectorizer, df):\n",
    "    docs = df[\"Text\"]\n",
    "    outputs = df[\"Ruling\"]\n",
    "    skf = StratifiedKFold(n_splits=5)\n",
    "    \n",
    "    accuracy_scores = []\n",
    "    total_pred = []\n",
    "    total_test = []\n",
    "\n",
    "    for train_idx, test_idx in skf.split(docs, outputs):\n",
    "        x_train, x_test = docs.iloc[train_idx], docs.iloc[test_idx]\n",
    "        y_train, y_test = outputs.iloc[train_idx], outputs.iloc[test_idx]\n",
    "\n",
    "        X_train_tfidf = vectorizer.fit_transform(x_train)\n",
    "        X_test_tfidf = vectorizer.transform(x_test)\n",
    "\n",
    "        svcmodel = SVC(kernel=\"linear\", C=1E3, random_state=0)\n",
    "        svcmodel.fit(X_train_tfidf, y_train)\n",
    "        y_pred = svcmodel.predict(X_test_tfidf)\n",
    "\n",
    "        accuracy_scores.append(accuracy_score(y_test, y_pred))\n",
    "        total_pred.extend(y_pred)\n",
    "        total_test.extend(y_test)\n",
    "    \n",
    "    return accuracy_scores, total_pred, total_test"
   ]
  },
  {
   "cell_type": "code",
   "execution_count": 28,
   "id": "dd4a6801",
   "metadata": {},
   "outputs": [
    {
     "name": "stdout",
     "output_type": "stream",
     "text": [
      "{'Asshole', 'Not the A-hole'}\n",
      "[0.5232142857142857, 0.5428571428571428, 0.5232142857142857, 0.552772808586762, 0.5259391771019678]\n",
      "0.5335995399948888\n"
     ]
    }
   ],
   "source": [
    "accuracy_scores, total_pred, total_test = test_svc_accuracies(TfidfVectorizer(max_features=1500, stop_words=\"english\"), yta_nta_df)\n",
    "print(set(total_pred))\n",
    "print(accuracy_scores)\n",
    "print(np.average(accuracy_scores))"
   ]
  },
  {
   "cell_type": "code",
   "execution_count": 29,
   "id": "77aac203",
   "metadata": {},
   "outputs": [
    {
     "name": "stdout",
     "output_type": "stream",
     "text": [
      "[0.5339285714285714, 0.5482142857142858, 0.5392857142857143, 0.5670840787119857, 0.5313059033989267]\n",
      "0.5439637107078967\n"
     ]
    }
   ],
   "source": [
    "accuracy_scores, total_pred, total_test = test_svc_accuracies(TfidfVectorizer(max_features=10000, stop_words=\"english\", ngram_range=(1,2)), yta_nta_df)\n",
    "print(accuracy_scores)\n",
    "print(np.average(accuracy_scores))"
   ]
  },
  {
   "cell_type": "code",
   "execution_count": 30,
   "id": "d692ec40",
   "metadata": {},
   "outputs": [
    {
     "name": "stdout",
     "output_type": "stream",
     "text": [
      "[0.5571428571428572, 0.5607142857142857, 0.5464285714285714, 0.5313059033989267, 0.5223613595706619]\n",
      "0.5435905954510605\n"
     ]
    }
   ],
   "source": [
    "accuracy_scores, total_pred, total_test = test_svc_accuracies(TfidfVectorizer(max_features=10000, stop_words=None, ngram_range=(1,2)), yta_nta_df)\n",
    "print(accuracy_scores)\n",
    "print(np.average(accuracy_scores))"
   ]
  },
  {
   "cell_type": "code",
   "execution_count": 31,
   "id": "bd97603b",
   "metadata": {
    "scrolled": true
   },
   "outputs": [
    {
     "name": "stdout",
     "output_type": "stream",
     "text": [
      "[0.5410714285714285, 0.5571428571428572, 0.5714285714285714, 0.5420393559928444, 0.5241502683363148]\n",
      "0.5471664962944033\n"
     ]
    }
   ],
   "source": [
    "accuracy_scores, total_pred, total_test = test_svc_accuracies(TfidfVectorizer(max_features=10000, stop_words=None, ngram_range=(1,3)), yta_nta_df)\n",
    "print(accuracy_scores)\n",
    "print(np.average(accuracy_scores))"
   ]
  },
  {
   "cell_type": "code",
   "execution_count": 32,
   "id": "3be4095d",
   "metadata": {},
   "outputs": [
    {
     "name": "stdout",
     "output_type": "stream",
     "text": [
      "[0.5660714285714286, 0.5482142857142858, 0.5785714285714286, 0.5330948121645797, 0.5044722719141324]\n",
      "0.5460848453871711\n"
     ]
    }
   ],
   "source": [
    "accuracy_scores, total_pred, total_test = test_svc_accuracies(TfidfVectorizer(max_df=0.25, max_features=10000, stop_words=None, ngram_range=(1,2)), yta_nta_df)\n",
    "print(accuracy_scores)\n",
    "print(np.average(accuracy_scores))"
   ]
  },
  {
   "cell_type": "code",
   "execution_count": 33,
   "id": "92cf8ddd",
   "metadata": {
    "scrolled": true
   },
   "outputs": [
    {
     "name": "stdout",
     "output_type": "stream",
     "text": [
      "[0.5321428571428571, 0.5482142857142858, 0.575, 0.5867620751341681, 0.5223613595706619]\n",
      "0.5528961155123946\n"
     ]
    }
   ],
   "source": [
    "accuracy_scores, total_pred, total_test = test_svc_accuracies(TfidfVectorizer(max_df=0.50, min_df=0.1, max_features=10000, stop_words=None, ngram_range=(1,2)), yta_nta_df)\n",
    "print(accuracy_scores)\n",
    "print(np.average(accuracy_scores))"
   ]
  },
  {
   "cell_type": "code",
   "execution_count": 34,
   "id": "6c4c3b98",
   "metadata": {},
   "outputs": [
    {
     "data": {
      "image/png": "[encoded data removed]",
      "text/plain": [
       "<Figure size 640x480 with 2 Axes>"
      ]
     },
     "metadata": {},
     "output_type": "display_data"
    }
   ],
   "source": [
    "mat = confusion_matrix(total_test, total_pred)\n",
    "sns.heatmap(mat, square=True, annot=True, fmt=\"d\", cmap=\"Reds\", xticklabels=[\"Asshole\", \"Not the A-hole\"], yticklabels=[\"Asshole\", \"Not the A-hole\"])\n",
    "plt.xlabel(\"Predicted Ruling\")\n",
    "plt.ylabel(\"Actual Ruling\")\n",
    "plt.show()"
   ]
  },
  {
   "cell_type": "markdown",
   "id": "96dfd004",
   "metadata": {},
   "source": [
    "I'm surprised that SVC can't do any better than MultinomialNB! I'd assume it would be the other way around. I wonder why..."
   ]
  }
 ],
 "metadata": {
  "kernelspec": {
   "display_name": "Python 3 (ipykernel)",
   "language": "python",
   "name": "python3"
  },
  "language_info": {
   "codemirror_mode": {
    "name": "ipython",
    "version": 3
   },
   "file_extension": ".py",
   "mimetype": "text/x-python",
   "name": "python",
   "nbconvert_exporter": "python",
   "pygments_lexer": "ipython3",
   "version": "3.9.13"
  }
 },
 "nbformat": 4,
 "nbformat_minor": 5
}
