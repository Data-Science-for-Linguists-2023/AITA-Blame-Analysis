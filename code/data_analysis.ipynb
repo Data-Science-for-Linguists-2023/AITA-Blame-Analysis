{
 "cells": [
  {
   "cell_type": "markdown",
   "id": "161af3c1",
   "metadata": {},
   "source": [
    "# Data Analysis"
   ]
  },
  {
   "cell_type": "markdown",
   "id": "05086809",
   "metadata": {},
   "source": [
    "## Set Up"
   ]
  },
  {
   "cell_type": "code",
   "execution_count": 25,
   "id": "4a5eead8",
   "metadata": {},
   "outputs": [],
   "source": [
    "import numpy as np\n",
    "import pandas as pd\n",
    "import spacy\n",
    "import matplotlib.pyplot as plt\n",
    "import nltk\n",
    "import seaborn as sns\n",
    "from scipy import stats"
   ]
  },
  {
   "cell_type": "code",
   "execution_count": 8,
   "id": "6e4de22f",
   "metadata": {},
   "outputs": [],
   "source": [
    "aita_df = pd.read_csv('../data/aita_data.csv')"
   ]
  },
  {
   "cell_type": "markdown",
   "id": "a413d854",
   "metadata": {},
   "source": [
    "To prevent clutter and to maintain a clean version of the DataFrame in case I need to revert, I will be doing my analysis on a copy of the corpus. If something might be useful in the future, I will add that column to analysis_df. But, if it's likely bound to the analysis only in one section, I will make another DataFrame for that aside."
   ]
  },
  {
   "cell_type": "code",
   "execution_count": 9,
   "id": "ccefd5ee",
   "metadata": {},
   "outputs": [],
   "source": [
    "analysis_df = aita_df.copy()"
   ]
  },
  {
   "cell_type": "markdown",
   "id": "f0b10bd7",
   "metadata": {},
   "source": [
    "Checking to see if it populated properly:"
   ]
  },
  {
   "cell_type": "code",
   "execution_count": 10,
   "id": "30fe94bb",
   "metadata": {},
   "outputs": [
    {
     "data": {
      "text/html": [
       "<div>\n",
       "<style scoped>\n",
       "    .dataframe tbody tr th:only-of-type {\n",
       "        vertical-align: middle;\n",
       "    }\n",
       "\n",
       "    .dataframe tbody tr th {\n",
       "        vertical-align: top;\n",
       "    }\n",
       "\n",
       "    .dataframe thead th {\n",
       "        text-align: right;\n",
       "    }\n",
       "</style>\n",
       "<table border=\"1\" class=\"dataframe\">\n",
       "  <thead>\n",
       "    <tr style=\"text-align: right;\">\n",
       "      <th></th>\n",
       "      <th>Unnamed: 0</th>\n",
       "      <th>AuthorID</th>\n",
       "      <th>Title</th>\n",
       "      <th>Text</th>\n",
       "      <th>Ruling</th>\n",
       "      <th>CommentCount</th>\n",
       "      <th>Score</th>\n",
       "      <th>UpvoteRatio</th>\n",
       "    </tr>\n",
       "  </thead>\n",
       "  <tbody>\n",
       "    <tr>\n",
       "      <th>0</th>\n",
       "      <td>0</td>\n",
       "      <td>1</td>\n",
       "      <td>AITA for sleeping during the day?</td>\n",
       "      <td>I honestly thought what I was doing was fine, ...</td>\n",
       "      <td>Not the A-hole</td>\n",
       "      <td>34</td>\n",
       "      <td>7</td>\n",
       "      <td>0.82</td>\n",
       "    </tr>\n",
       "    <tr>\n",
       "      <th>1</th>\n",
       "      <td>2</td>\n",
       "      <td>0</td>\n",
       "      <td>AITAH for refusing to change out of my semi-se...</td>\n",
       "      <td>My boyfriend was FaceTiming his cousin and his...</td>\n",
       "      <td>Not the A-hole</td>\n",
       "      <td>23</td>\n",
       "      <td>8</td>\n",
       "      <td>0.78</td>\n",
       "    </tr>\n",
       "    <tr>\n",
       "      <th>2</th>\n",
       "      <td>6</td>\n",
       "      <td>2</td>\n",
       "      <td>AITA for not helping my neighbor?</td>\n",
       "      <td>I (M26) live in a large apartment complex with...</td>\n",
       "      <td>Not the A-hole</td>\n",
       "      <td>253</td>\n",
       "      <td>1016</td>\n",
       "      <td>0.97</td>\n",
       "    </tr>\n",
       "    <tr>\n",
       "      <th>3</th>\n",
       "      <td>9</td>\n",
       "      <td>3</td>\n",
       "      <td>AITA for threatening to lock my housemate's wi...</td>\n",
       "      <td>I'll keep it short; my housemate moved in arou...</td>\n",
       "      <td>Everyone Sucks</td>\n",
       "      <td>34</td>\n",
       "      <td>4</td>\n",
       "      <td>0.76</td>\n",
       "    </tr>\n",
       "    <tr>\n",
       "      <th>4</th>\n",
       "      <td>25</td>\n",
       "      <td>4</td>\n",
       "      <td>AITA for allowing my bio dad and his wife to b...</td>\n",
       "      <td>I found out that I am pregnant about 5 1/2 mon...</td>\n",
       "      <td>Not the A-hole</td>\n",
       "      <td>62</td>\n",
       "      <td>46</td>\n",
       "      <td>0.88</td>\n",
       "    </tr>\n",
       "  </tbody>\n",
       "</table>\n",
       "</div>"
      ],
      "text/plain": [
       "   Unnamed: 0  AuthorID                                              Title  \\\n",
       "0           0         1                  AITA for sleeping during the day?   \n",
       "1           2         0  AITAH for refusing to change out of my semi-se...   \n",
       "2           6         2                  AITA for not helping my neighbor?   \n",
       "3           9         3  AITA for threatening to lock my housemate's wi...   \n",
       "4          25         4  AITA for allowing my bio dad and his wife to b...   \n",
       "\n",
       "                                                Text          Ruling  \\\n",
       "0  I honestly thought what I was doing was fine, ...  Not the A-hole   \n",
       "1  My boyfriend was FaceTiming his cousin and his...  Not the A-hole   \n",
       "2  I (M26) live in a large apartment complex with...  Not the A-hole   \n",
       "3  I'll keep it short; my housemate moved in arou...  Everyone Sucks   \n",
       "4  I found out that I am pregnant about 5 1/2 mon...  Not the A-hole   \n",
       "\n",
       "   CommentCount  Score  UpvoteRatio  \n",
       "0            34      7         0.82  \n",
       "1            23      8         0.78  \n",
       "2           253   1016         0.97  \n",
       "3            34      4         0.76  \n",
       "4            62     46         0.88  "
      ]
     },
     "execution_count": 10,
     "metadata": {},
     "output_type": "execute_result"
    }
   ],
   "source": [
    "analysis_df.head()"
   ]
  },
  {
   "cell_type": "code",
   "execution_count": 11,
   "id": "85a987c5",
   "metadata": {},
   "outputs": [
    {
     "name": "stdout",
     "output_type": "stream",
     "text": [
      "<class 'pandas.core.frame.DataFrame'>\n",
      "RangeIndex: 9414 entries, 0 to 9413\n",
      "Data columns (total 8 columns):\n",
      " #   Column        Non-Null Count  Dtype  \n",
      "---  ------        --------------  -----  \n",
      " 0   Unnamed: 0    9414 non-null   int64  \n",
      " 1   AuthorID      9414 non-null   int64  \n",
      " 2   Title         9414 non-null   object \n",
      " 3   Text          9414 non-null   object \n",
      " 4   Ruling        9414 non-null   object \n",
      " 5   CommentCount  9414 non-null   int64  \n",
      " 6   Score         9414 non-null   int64  \n",
      " 7   UpvoteRatio   9414 non-null   float64\n",
      "dtypes: float64(1), int64(4), object(3)\n",
      "memory usage: 588.5+ KB\n"
     ]
    }
   ],
   "source": [
    "analysis_df.info()"
   ]
  },
  {
   "cell_type": "markdown",
   "id": "94290a1a",
   "metadata": {},
   "source": [
    "Let's look at the breakdown of rulings:"
   ]
  },
  {
   "cell_type": "code",
   "execution_count": 12,
   "id": "f24e1b57",
   "metadata": {},
   "outputs": [
    {
     "data": {
      "text/plain": [
       "Not the A-hole     7180\n",
       "Asshole            1399\n",
       "No A-holes here     471\n",
       "Everyone Sucks      364\n",
       "Name: Ruling, dtype: int64"
      ]
     },
     "execution_count": 12,
     "metadata": {},
     "output_type": "execute_result"
    }
   ],
   "source": [
    "analysis_df.Ruling.value_counts()"
   ]
  },
  {
   "cell_type": "code",
   "execution_count": null,
   "id": "7e4f7534",
   "metadata": {},
   "outputs": [],
   "source": [
    "rulings_graph = analysis_df.Ruling.value_counts().plot(kind='barh')\n",
    "plt.show()"
   ]
  },
  {
   "cell_type": "markdown",
   "id": "40f15830",
   "metadata": {},
   "source": [
    "A vast majority of rulings believe that the poster is not the asshole. There's significantly less data for all the other rulings, but especially No Assholes here and Everyone Sucks Here. This makes sense, as the premise of the subreddit emphasizes the binary of were you good or bad in a situation, so the two more nuanced rulings have less usage."
   ]
  },
  {
   "cell_type": "markdown",
   "id": "8e9646bf",
   "metadata": {},
   "source": [
    "## Question: How much context and justification do the posters give?"
   ]
  },
  {
   "cell_type": "markdown",
   "id": "119c16e6",
   "metadata": {},
   "source": [
    "### Practically: How does post length vary between rulings?"
   ]
  },
  {
   "cell_type": "markdown",
   "id": "2e1f5fb1",
   "metadata": {},
   "source": [
    "Based on the subreddit's [Rules](https://www.reddit.com/r/AmItheAsshole/about/rules/), posts are limited to 3000 characters. However, not every story needs to take up that entire length to be told. Is there any meaningful variance between the overall post lengths of the four rulings? I could imagine that people trying to shake the blame off themselves would spend more time trying to justify their actions."
   ]
  },
  {
   "cell_type": "code",
   "execution_count": 13,
   "id": "ac116975",
   "metadata": {},
   "outputs": [],
   "source": [
    "analysis_df[\"Tokens\"] = analysis_df.Text.map(nltk.word_tokenize)\n",
    "analysis_df[\"TokenCount\"] = analysis_df.Tokens.map(lambda x: len(x))\n",
    "analysis_df[\"Sentences\"] = analysis_df.Text.map(nltk.sent_tokenize)"
   ]
  },
  {
   "cell_type": "code",
   "execution_count": 14,
   "id": "b92c89e0",
   "metadata": {},
   "outputs": [
    {
     "name": "stdout",
     "output_type": "stream",
     "text": [
      "                 TokenCount\n",
      "Ruling                     \n",
      "Asshole          421.760543\n",
      "Everyone Sucks   478.607143\n",
      "No A-holes here  383.898089\n",
      "Not the A-hole   445.821866\n"
     ]
    }
   ],
   "source": [
    "tokencount_compare = analysis_df.groupby(\"Ruling\")[\"TokenCount\"].mean()\n",
    "tokencount_compare = tokencount_compare.to_frame()\n",
    "print(tokencount_compare)"
   ]
  },
  {
   "cell_type": "code",
   "execution_count": 27,
   "id": "947fe8aa",
   "metadata": {},
   "outputs": [
    {
     "data": {
      "image/png": "[encoded data removed]",
      "text/plain": [
       "<Figure size 500x500 with 1 Axes>"
      ]
     },
     "metadata": {},
     "output_type": "display_data"
    }
   ],
   "source": [
    "sns.catplot(x=\"Ruling\", y=\"TokenCount\", data=analysis_df, kind=\"box\")\n",
    "plt.show()"
   ]
  },
  {
   "cell_type": "markdown",
   "id": "e2f078d3",
   "metadata": {},
   "source": [
    "This data shows that writers declared as Not the Asshole actually write the most on average. Perhaps this could imply that, instead of being perceived as trying to over-justify their actions, some writing more simply provides a higher amount of context that allows readers to actually understand their position. Conversely, perhaps the low token count on No Assholes Here shows that there's not enough of a story being told to justify a ruling. Or, that a situation in itself is so small that you shouldn't even have to worry about it.\n",
    "\n",
    "Writers declared as Assholes seem to have the widest variance in how long each post is. This might suggest what I came into this test hypothesizing: that readers would be able to detect someone who is trying to overcompensate for their actions. This might also be attributed to a variety of other causes, though. Maybe these situations might just need much more context to explain the situation."
   ]
  },
  {
   "cell_type": "code",
   "execution_count": null,
   "id": "987d6828",
   "metadata": {},
   "outputs": [],
   "source": [
    "yta = analysis_df[analysis_df.Ruling == \"Asshole\"].TokenCount.mean()\n",
    "nta = analysis_df[analysis_df.Ruling == \"Not the A-hole\"].TokenCount.mean()\n",
    "nah = analysis_df[analysis_df.Ruling == \"No A-holes here\"].TokenCount.mean()\n",
    "esh = analysis_df[analysis_df.Ruling == \"Everyone Sucks\"].TokenCount.mean()\n",
    "\n",
    "stats.f_oneway(yta, nta, nah, esh)"
   ]
  },
  {
   "cell_type": "markdown",
   "id": "4cb3e49f",
   "metadata": {},
   "source": [
    "I'll also consider the length of the post title, as that's the first first impression people will have on the subject."
   ]
  },
  {
   "cell_type": "code",
   "execution_count": 19,
   "id": "7a79d3d1",
   "metadata": {},
   "outputs": [],
   "source": [
    "analysis_df[\"TitleTokens\"] = analysis_df.Title.map(nltk.word_tokenize)\n",
    "analysis_df[\"TitleTkCount\"] = analysis_df.TitleTokens.map(lambda x: len(x))"
   ]
  },
  {
   "cell_type": "code",
   "execution_count": 20,
   "id": "6f85801b",
   "metadata": {},
   "outputs": [
    {
     "name": "stdout",
     "output_type": "stream",
     "text": [
      "                 TitleTkCount\n",
      "Ruling                       \n",
      "Asshole             13.383846\n",
      "Everyone Sucks      12.618132\n",
      "No A-holes here     12.600849\n",
      "Not the A-hole      12.881894\n"
     ]
    }
   ],
   "source": [
    "tokencount_compare = analysis_df.groupby(\"Ruling\")[\"TitleTkCount\"].mean()\n",
    "tokencount_compare = tokencount_compare.to_frame()\n",
    "print(tokencount_compare)"
   ]
  },
  {
   "cell_type": "code",
   "execution_count": 28,
   "id": "5e720031",
   "metadata": {},
   "outputs": [
    {
     "data": {
      "image/png": "[encoded data removed]",
      "text/plain": [
       "<Figure size 500x500 with 1 Axes>"
      ]
     },
     "metadata": {},
     "output_type": "display_data"
    }
   ],
   "source": [
    "sns.catplot(x=\"Ruling\", y=\"TitleTkCount\", data=analysis_df, kind=\"box\")\n",
    "plt.show()"
   ]
  },
  {
   "cell_type": "markdown",
   "id": "d4ffdcf3",
   "metadata": {},
   "source": [
    "It makes sense that the differences between them are so minimal, since there's a strict limit of 300 characters on any Reddit post. Visually, is also seems that there's so much variance in how many words are used that it's not very meaningful to analyze."
   ]
  },
  {
   "cell_type": "code",
   "execution_count": null,
   "id": "6abff999",
   "metadata": {},
   "outputs": [],
   "source": [
    "yta = analysis_df[analysis_df.Ruling == \"Asshole\"].TitleTkCount.mean()\n",
    "nta = analysis_df[analysis_df.Ruling == \"Not the A-hole\"].TitleTkCount.mean()\n",
    "nah = analysis_df[analysis_df.Ruling == \"No A-holes here\"].TitleTkCount.mean()\n",
    "esh = analysis_df[analysis_df.Ruling == \"Everyone Sucks\"].TitleTkCount.mean()\n",
    "\n",
    "stats.f_oneway(yta, nta, nah, esh)"
   ]
  },
  {
   "cell_type": "markdown",
   "id": "a4de69d9",
   "metadata": {},
   "source": [
    "## Question: Who do their stories focalize?"
   ]
  },
  {
   "cell_type": "markdown",
   "id": "648ed880",
   "metadata": {},
   "source": [
    "### Practically: Do the most common subjects of sentences vary between rulings?"
   ]
  },
  {
   "cell_type": "code",
   "execution_count": 29,
   "id": "260dc0ce",
   "metadata": {},
   "outputs": [],
   "source": [
    "nlp = spacy.load('en_core_web_sm')"
   ]
  },
  {
   "cell_type": "code",
   "execution_count": 30,
   "id": "8a4e83fa",
   "metadata": {},
   "outputs": [
    {
     "data": {
      "text/html": [
       "<div>\n",
       "<style scoped>\n",
       "    .dataframe tbody tr th:only-of-type {\n",
       "        vertical-align: middle;\n",
       "    }\n",
       "\n",
       "    .dataframe tbody tr th {\n",
       "        vertical-align: top;\n",
       "    }\n",
       "\n",
       "    .dataframe thead th {\n",
       "        text-align: right;\n",
       "    }\n",
       "</style>\n",
       "<table border=\"1\" class=\"dataframe\">\n",
       "  <thead>\n",
       "    <tr style=\"text-align: right;\">\n",
       "      <th></th>\n",
       "      <th>Unnamed: 0</th>\n",
       "      <th>AuthorID</th>\n",
       "      <th>Title</th>\n",
       "      <th>Text</th>\n",
       "      <th>Ruling</th>\n",
       "      <th>CommentCount</th>\n",
       "      <th>Score</th>\n",
       "      <th>UpvoteRatio</th>\n",
       "      <th>Tokens</th>\n",
       "      <th>TokenCount</th>\n",
       "      <th>Sentences</th>\n",
       "      <th>TitleTokens</th>\n",
       "      <th>TitleTkCount</th>\n",
       "      <th>SpacyText</th>\n",
       "      <th>Subjects</th>\n",
       "    </tr>\n",
       "  </thead>\n",
       "  <tbody>\n",
       "    <tr>\n",
       "      <th>0</th>\n",
       "      <td>0</td>\n",
       "      <td>1</td>\n",
       "      <td>AITA for sleeping during the day?</td>\n",
       "      <td>I honestly thought what I was doing was fine, ...</td>\n",
       "      <td>Not the A-hole</td>\n",
       "      <td>34</td>\n",
       "      <td>7</td>\n",
       "      <td>0.82</td>\n",
       "      <td>[I, honestly, thought, what, I, was, doing, wa...</td>\n",
       "      <td>204</td>\n",
       "      <td>[I honestly thought what I was doing was fine,...</td>\n",
       "      <td>[AITA, for, sleeping, during, the, day, ?]</td>\n",
       "      <td>7</td>\n",
       "      <td>[(I, honestly, thought, what, I, was, doing, w...</td>\n",
       "      <td>[I, I, dad, I, I, I, I, I, editors, I, they, I...</td>\n",
       "    </tr>\n",
       "    <tr>\n",
       "      <th>1</th>\n",
       "      <td>2</td>\n",
       "      <td>0</td>\n",
       "      <td>AITAH for refusing to change out of my semi-se...</td>\n",
       "      <td>My boyfriend was FaceTiming his cousin and his...</td>\n",
       "      <td>Not the A-hole</td>\n",
       "      <td>23</td>\n",
       "      <td>8</td>\n",
       "      <td>0.78</td>\n",
       "      <td>[My, boyfriend, was, FaceTiming, his, cousin, ...</td>\n",
       "      <td>339</td>\n",
       "      <td>[My boyfriend was FaceTiming his cousin and hi...</td>\n",
       "      <td>[AITAH, for, refusing, to, change, out, of, my...</td>\n",
       "      <td>13</td>\n",
       "      <td>[(My, boyfriend, was, FaceTiming, his, cousin,...</td>\n",
       "      <td>[boyfriend, They, I, I, I, it, I, I, He, you, ...</td>\n",
       "    </tr>\n",
       "    <tr>\n",
       "      <th>2</th>\n",
       "      <td>6</td>\n",
       "      <td>2</td>\n",
       "      <td>AITA for not helping my neighbor?</td>\n",
       "      <td>I (M26) live in a large apartment complex with...</td>\n",
       "      <td>Not the A-hole</td>\n",
       "      <td>253</td>\n",
       "      <td>1016</td>\n",
       "      <td>0.97</td>\n",
       "      <td>[I, (, M26, ), live, in, a, large, apartment, ...</td>\n",
       "      <td>570</td>\n",
       "      <td>[I (M26) live in a large apartment complex wit...</td>\n",
       "      <td>[AITA, for, not, helping, my, neighbor, ?]</td>\n",
       "      <td>7</td>\n",
       "      <td>[(I, (, M26, ), live, in, a, large, apartment,...</td>\n",
       "      <td>[I, I, which, It, I, I, units, That, I, guy, d...</td>\n",
       "    </tr>\n",
       "    <tr>\n",
       "      <th>3</th>\n",
       "      <td>9</td>\n",
       "      <td>3</td>\n",
       "      <td>AITA for threatening to lock my housemate's wi...</td>\n",
       "      <td>I'll keep it short; my housemate moved in arou...</td>\n",
       "      <td>Everyone Sucks</td>\n",
       "      <td>34</td>\n",
       "      <td>4</td>\n",
       "      <td>0.76</td>\n",
       "      <td>[I, 'll, keep, it, short, ;, my, housemate, mo...</td>\n",
       "      <td>390</td>\n",
       "      <td>[I'll keep it short; my housemate moved in aro...</td>\n",
       "      <td>[AITA, for, threatening, to, lock, my, housema...</td>\n",
       "      <td>15</td>\n",
       "      <td>[(I, 'll, keep, it, short, ;, my, housemate, m...</td>\n",
       "      <td>[I, housemate, he, that, I, he, he, I, he, tha...</td>\n",
       "    </tr>\n",
       "    <tr>\n",
       "      <th>4</th>\n",
       "      <td>25</td>\n",
       "      <td>4</td>\n",
       "      <td>AITA for allowing my bio dad and his wife to b...</td>\n",
       "      <td>I found out that I am pregnant about 5 1/2 mon...</td>\n",
       "      <td>Not the A-hole</td>\n",
       "      <td>62</td>\n",
       "      <td>46</td>\n",
       "      <td>0.88</td>\n",
       "      <td>[I, found, out, that, I, am, pregnant, about, ...</td>\n",
       "      <td>408</td>\n",
       "      <td>[I found out that I am pregnant about 5 1/2 mo...</td>\n",
       "      <td>[AITA, for, allowing, my, bio, dad, and, his, ...</td>\n",
       "      <td>16</td>\n",
       "      <td>[(I, found, out, that, I, am, pregnant, about,...</td>\n",
       "      <td>[I, I, I, mom, she, she, I, who, some, I, I, i...</td>\n",
       "    </tr>\n",
       "    <tr>\n",
       "      <th>5</th>\n",
       "      <td>29</td>\n",
       "      <td>5</td>\n",
       "      <td>WIBTA for confronting my dad about skipping Ch...</td>\n",
       "      <td>My (31F) parents (55F) and (63M) have been sep...</td>\n",
       "      <td>Not the A-hole</td>\n",
       "      <td>20</td>\n",
       "      <td>3</td>\n",
       "      <td>0.81</td>\n",
       "      <td>[My, (, 31F, ), parents, (, 55F, ), and, (, 63...</td>\n",
       "      <td>583</td>\n",
       "      <td>[My (31F) parents (55F) and (63M) have been se...</td>\n",
       "      <td>[WIBTA, for, confronting, my, dad, about, skip...</td>\n",
       "      <td>8</td>\n",
       "      <td>[(My, (, 31F, ), parents, (, 55F, ), and, (, 6...</td>\n",
       "      <td>[I, they, It, I, I, I, husband, that, I, we, w...</td>\n",
       "    </tr>\n",
       "    <tr>\n",
       "      <th>6</th>\n",
       "      <td>39</td>\n",
       "      <td>6</td>\n",
       "      <td>WIBTA if on a day trip with friends I opt out ...</td>\n",
       "      <td>I (26F) live in the US and my friend from anot...</td>\n",
       "      <td>Not the A-hole</td>\n",
       "      <td>10</td>\n",
       "      <td>8</td>\n",
       "      <td>1.00</td>\n",
       "      <td>[I, (, 26F, ), live, in, the, US, and, my, fri...</td>\n",
       "      <td>260</td>\n",
       "      <td>[I (26F) live in the US and my friend from ano...</td>\n",
       "      <td>[WIBTA, if, on, a, day, trip, with, friends, I...</td>\n",
       "      <td>16</td>\n",
       "      <td>[(I, (, 26F, ), live, in, the, US, and, my, fr...</td>\n",
       "      <td>[I, We, Her, She, I, it, we, she, She, activit...</td>\n",
       "    </tr>\n",
       "    <tr>\n",
       "      <th>7</th>\n",
       "      <td>41</td>\n",
       "      <td>7</td>\n",
       "      <td>WIBTA for not celebrating Christmas with my bo...</td>\n",
       "      <td>**edit #1**: Nancy is hosting Christmas dinner...</td>\n",
       "      <td>Not the A-hole</td>\n",
       "      <td>12</td>\n",
       "      <td>3</td>\n",
       "      <td>0.80</td>\n",
       "      <td>[*, *, edit, #, 1, *, *, :, Nancy, is, hosting...</td>\n",
       "      <td>336</td>\n",
       "      <td>[**edit #1**: Nancy is hosting Christmas dinne...</td>\n",
       "      <td>[WIBTA, for, not, celebrating, Christmas, with...</td>\n",
       "      <td>16</td>\n",
       "      <td>[(*, *, edit, #, 1, *, *, :, Nancy, is, hostin...</td>\n",
       "      <td>[Nancy, it, Andy, Christmas, it, we, we, Walt,...</td>\n",
       "    </tr>\n",
       "    <tr>\n",
       "      <th>8</th>\n",
       "      <td>42</td>\n",
       "      <td>8</td>\n",
       "      <td>AITA for being annoyed that my friend is visit...</td>\n",
       "      <td>I (38f) have two friends from university: Sue ...</td>\n",
       "      <td>Asshole</td>\n",
       "      <td>27</td>\n",
       "      <td>3</td>\n",
       "      <td>0.58</td>\n",
       "      <td>[I, (, 38f, ), have, two, friends, from, unive...</td>\n",
       "      <td>604</td>\n",
       "      <td>[I (38f) have two friends from university: Sue...</td>\n",
       "      <td>[AITA, for, being, annoyed, that, my, friend, ...</td>\n",
       "      <td>15</td>\n",
       "      <td>[(I, (, 38f, ), have, two, friends, from, univ...</td>\n",
       "      <td>[I, Sue, Meg, I, we, I, I, I, I, I, summer, Me...</td>\n",
       "    </tr>\n",
       "    <tr>\n",
       "      <th>9</th>\n",
       "      <td>46</td>\n",
       "      <td>9</td>\n",
       "      <td>AITA for getting upset when my roommate’s part...</td>\n",
       "      <td>Keeping this anon cause I’m not trying to put ...</td>\n",
       "      <td>Not the A-hole</td>\n",
       "      <td>277</td>\n",
       "      <td>2914</td>\n",
       "      <td>0.97</td>\n",
       "      <td>[Keeping, this, anon, cause, I, ’, m, not, try...</td>\n",
       "      <td>311</td>\n",
       "      <td>[Keeping this anon cause I’m not trying to put...</td>\n",
       "      <td>[AITA, for, getting, upset, when, my, roommate...</td>\n",
       "      <td>15</td>\n",
       "      <td>[(Keeping, this, anon, cause, I, ’m, not, tryi...</td>\n",
       "      <td>[I, situation, roommate, This, I, it, we, I, p...</td>\n",
       "    </tr>\n",
       "  </tbody>\n",
       "</table>\n",
       "</div>"
      ],
      "text/plain": [
       "   Unnamed: 0  AuthorID                                              Title  \\\n",
       "0           0         1                  AITA for sleeping during the day?   \n",
       "1           2         0  AITAH for refusing to change out of my semi-se...   \n",
       "2           6         2                  AITA for not helping my neighbor?   \n",
       "3           9         3  AITA for threatening to lock my housemate's wi...   \n",
       "4          25         4  AITA for allowing my bio dad and his wife to b...   \n",
       "5          29         5  WIBTA for confronting my dad about skipping Ch...   \n",
       "6          39         6  WIBTA if on a day trip with friends I opt out ...   \n",
       "7          41         7  WIBTA for not celebrating Christmas with my bo...   \n",
       "8          42         8  AITA for being annoyed that my friend is visit...   \n",
       "9          46         9  AITA for getting upset when my roommate’s part...   \n",
       "\n",
       "                                                Text          Ruling  \\\n",
       "0  I honestly thought what I was doing was fine, ...  Not the A-hole   \n",
       "1  My boyfriend was FaceTiming his cousin and his...  Not the A-hole   \n",
       "2  I (M26) live in a large apartment complex with...  Not the A-hole   \n",
       "3  I'll keep it short; my housemate moved in arou...  Everyone Sucks   \n",
       "4  I found out that I am pregnant about 5 1/2 mon...  Not the A-hole   \n",
       "5  My (31F) parents (55F) and (63M) have been sep...  Not the A-hole   \n",
       "6  I (26F) live in the US and my friend from anot...  Not the A-hole   \n",
       "7  **edit #1**: Nancy is hosting Christmas dinner...  Not the A-hole   \n",
       "8  I (38f) have two friends from university: Sue ...         Asshole   \n",
       "9  Keeping this anon cause I’m not trying to put ...  Not the A-hole   \n",
       "\n",
       "   CommentCount  Score  UpvoteRatio  \\\n",
       "0            34      7         0.82   \n",
       "1            23      8         0.78   \n",
       "2           253   1016         0.97   \n",
       "3            34      4         0.76   \n",
       "4            62     46         0.88   \n",
       "5            20      3         0.81   \n",
       "6            10      8         1.00   \n",
       "7            12      3         0.80   \n",
       "8            27      3         0.58   \n",
       "9           277   2914         0.97   \n",
       "\n",
       "                                              Tokens  TokenCount  \\\n",
       "0  [I, honestly, thought, what, I, was, doing, wa...         204   \n",
       "1  [My, boyfriend, was, FaceTiming, his, cousin, ...         339   \n",
       "2  [I, (, M26, ), live, in, a, large, apartment, ...         570   \n",
       "3  [I, 'll, keep, it, short, ;, my, housemate, mo...         390   \n",
       "4  [I, found, out, that, I, am, pregnant, about, ...         408   \n",
       "5  [My, (, 31F, ), parents, (, 55F, ), and, (, 63...         583   \n",
       "6  [I, (, 26F, ), live, in, the, US, and, my, fri...         260   \n",
       "7  [*, *, edit, #, 1, *, *, :, Nancy, is, hosting...         336   \n",
       "8  [I, (, 38f, ), have, two, friends, from, unive...         604   \n",
       "9  [Keeping, this, anon, cause, I, ’, m, not, try...         311   \n",
       "\n",
       "                                           Sentences  \\\n",
       "0  [I honestly thought what I was doing was fine,...   \n",
       "1  [My boyfriend was FaceTiming his cousin and hi...   \n",
       "2  [I (M26) live in a large apartment complex wit...   \n",
       "3  [I'll keep it short; my housemate moved in aro...   \n",
       "4  [I found out that I am pregnant about 5 1/2 mo...   \n",
       "5  [My (31F) parents (55F) and (63M) have been se...   \n",
       "6  [I (26F) live in the US and my friend from ano...   \n",
       "7  [**edit #1**: Nancy is hosting Christmas dinne...   \n",
       "8  [I (38f) have two friends from university: Sue...   \n",
       "9  [Keeping this anon cause I’m not trying to put...   \n",
       "\n",
       "                                         TitleTokens  TitleTkCount  \\\n",
       "0         [AITA, for, sleeping, during, the, day, ?]             7   \n",
       "1  [AITAH, for, refusing, to, change, out, of, my...            13   \n",
       "2         [AITA, for, not, helping, my, neighbor, ?]             7   \n",
       "3  [AITA, for, threatening, to, lock, my, housema...            15   \n",
       "4  [AITA, for, allowing, my, bio, dad, and, his, ...            16   \n",
       "5  [WIBTA, for, confronting, my, dad, about, skip...             8   \n",
       "6  [WIBTA, if, on, a, day, trip, with, friends, I...            16   \n",
       "7  [WIBTA, for, not, celebrating, Christmas, with...            16   \n",
       "8  [AITA, for, being, annoyed, that, my, friend, ...            15   \n",
       "9  [AITA, for, getting, upset, when, my, roommate...            15   \n",
       "\n",
       "                                           SpacyText  \\\n",
       "0  [(I, honestly, thought, what, I, was, doing, w...   \n",
       "1  [(My, boyfriend, was, FaceTiming, his, cousin,...   \n",
       "2  [(I, (, M26, ), live, in, a, large, apartment,...   \n",
       "3  [(I, 'll, keep, it, short, ;, my, housemate, m...   \n",
       "4  [(I, found, out, that, I, am, pregnant, about,...   \n",
       "5  [(My, (, 31F, ), parents, (, 55F, ), and, (, 6...   \n",
       "6  [(I, (, 26F, ), live, in, the, US, and, my, fr...   \n",
       "7  [(*, *, edit, #, 1, *, *, :, Nancy, is, hostin...   \n",
       "8  [(I, (, 38f, ), have, two, friends, from, univ...   \n",
       "9  [(Keeping, this, anon, cause, I, ’m, not, tryi...   \n",
       "\n",
       "                                            Subjects  \n",
       "0  [I, I, dad, I, I, I, I, I, editors, I, they, I...  \n",
       "1  [boyfriend, They, I, I, I, it, I, I, He, you, ...  \n",
       "2  [I, I, which, It, I, I, units, That, I, guy, d...  \n",
       "3  [I, housemate, he, that, I, he, he, I, he, tha...  \n",
       "4  [I, I, I, mom, she, she, I, who, some, I, I, i...  \n",
       "5  [I, they, It, I, I, I, husband, that, I, we, w...  \n",
       "6  [I, We, Her, She, I, it, we, she, She, activit...  \n",
       "7  [Nancy, it, Andy, Christmas, it, we, we, Walt,...  \n",
       "8  [I, Sue, Meg, I, we, I, I, I, I, I, summer, Me...  \n",
       "9  [I, situation, roommate, This, I, it, we, I, p...  "
      ]
     },
     "execution_count": 30,
     "metadata": {},
     "output_type": "execute_result"
    }
   ],
   "source": [
    "analysis_df[\"SpacyText\"] = analysis_df[\"Sentences\"].apply(lambda x: [nlp(sent) for sent in x])\n",
    "\n",
    "subjects_df = analysis_df.copy()\n",
    "subjects_df[\"Subjects\"] = subjects_df[\"SpacyText\"].apply(lambda x: [[tok for tok in sent if (tok.dep_ == \"nsubj\")] for sent in x])\n",
    "# This is an array of arrays, I want to unpack into just 1 array per cell\n",
    "subjects_df[\"Subjects\"] = subjects_df.Subjects.map(lambda x: sum(x, []))\n",
    "\n",
    "subjects_df.head(10)"
   ]
  },
  {
   "cell_type": "code",
   "execution_count": 59,
   "id": "9d194987",
   "metadata": {},
   "outputs": [],
   "source": [
    "def count_subjects_per_ruling(ruling, number):\n",
    "    ruling_subjects = subjects_df[subjects_df.Ruling == ruling].Subjects.tolist()\n",
    "    subjects_count = {}\n",
    "    for arr in ruling_subjects:\n",
    "        for subj in arr:\n",
    "            subjects_count[str(subj)] = subjects_count.get(str(subj), 0) + 1\n",
    "    \n",
    "    sort_subjects = sorted(subjects_count.items(), key=lambda x:x[1], reverse=True)\n",
    "    subjects_count = dict(sort_subjects)\n",
    "    top_subjects = {i: subjects_count[i] for i in list(subjects_count)[:number]}\n",
    "    return top_subjects"
   ]
  },
  {
   "cell_type": "code",
   "execution_count": 60,
   "id": "92d107ed",
   "metadata": {},
   "outputs": [
    {
     "name": "stdout",
     "output_type": "stream",
     "text": [
      "{'I': 124908, 'she': 30099, 'he': 24320, 'it': 18108, 'we': 16388, 'they': 12251, 'She': 8802, 'i': 8036, 'He': 6711, 'that': 6090}\n"
     ]
    }
   ],
   "source": [
    "nah = count_subjects_per_ruling(\"Not the A-hole\", 10)\n",
    "print(nah)"
   ]
  },
  {
   "cell_type": "code",
   "execution_count": 61,
   "id": "087fc0ee",
   "metadata": {},
   "outputs": [
    {
     "name": "stdout",
     "output_type": "stream",
     "text": [
      "{'I': 124908, 'she': 30099, 'he': 24320, 'it': 18108, 'we': 16388, 'they': 12251, 'She': 8802, 'i': 8036, 'He': 6711, 'that': 6090}\n"
     ]
    }
   ],
   "source": [
    "yta = count_subjects_per_ruling(\"Asshole\", 10)\n",
    "print(nah)"
   ]
  },
  {
   "cell_type": "code",
   "execution_count": null,
   "id": "bbf9481c",
   "metadata": {},
   "outputs": [],
   "source": []
  },
  {
   "cell_type": "markdown",
   "id": "d4c8a3b3",
   "metadata": {},
   "source": [
    "## Question: How much agency does the writer express?"
   ]
  },
  {
   "cell_type": "markdown",
   "id": "ce9c0c40",
   "metadata": {},
   "source": [
    "### Practically: What proportion of sentences is written in passive voice?"
   ]
  }
 ],
 "metadata": {
  "kernelspec": {
   "display_name": "Python 3 (ipykernel)",
   "language": "python",
   "name": "python3"
  },
  "language_info": {
   "codemirror_mode": {
    "name": "ipython",
    "version": 3
   },
   "file_extension": ".py",
   "mimetype": "text/x-python",
   "name": "python",
   "nbconvert_exporter": "python",
   "pygments_lexer": "ipython3",
   "version": "3.9.13"
  }
 },
 "nbformat": 4,
 "nbformat_minor": 5
}
