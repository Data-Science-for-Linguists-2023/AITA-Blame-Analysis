{
 "cells": [
  {
   "cell_type": "markdown",
   "id": "161af3c1",
   "metadata": {},
   "source": [
    "# Data Analysis"
   ]
  },
  {
   "cell_type": "markdown",
   "id": "05086809",
   "metadata": {},
   "source": [
    "## Set Up"
   ]
  },
  {
   "cell_type": "code",
   "execution_count": 1,
   "id": "ef3a8da8",
   "metadata": {},
   "outputs": [],
   "source": [
    "import numpy as np\n",
    "import pandas as pd\n",
    "import spacy\n",
    "import matplotlib.pyplot as plt\n",
    "import nltk\n",
    "import seaborn as sns\n",
    "from scipy import stats"
   ]
  },
  {
   "cell_type": "code",
   "execution_count": 2,
   "id": "6e4de22f",
   "metadata": {},
   "outputs": [],
   "source": [
    "analysis_df = pd.read_csv('../data/aita_data.csv')"
   ]
  },
  {
   "cell_type": "markdown",
   "id": "a413d854",
   "metadata": {},
   "source": [
    "To prevent clutter and to maintain a clean version of the DataFrame in case I need to revert, I will be saving any analysis and edits to the original DataFrame to a copy of the corpus. If something might be useful in the future, I will add that column to analysis_df. But, if it's likely bound to the analysis only in one section, I will make another DataFrame for that aside."
   ]
  },
  {
   "cell_type": "markdown",
   "id": "c28ecb49",
   "metadata": {},
   "source": [
    "Checking to see if it populated properly:"
   ]
  },
  {
   "cell_type": "code",
   "execution_count": 3,
   "id": "589ea31d",
   "metadata": {},
   "outputs": [
    {
     "data": {
      "text/html": [
       "<div>\n",
       "<style scoped>\n",
       "    .dataframe tbody tr th:only-of-type {\n",
       "        vertical-align: middle;\n",
       "    }\n",
       "\n",
       "    .dataframe tbody tr th {\n",
       "        vertical-align: top;\n",
       "    }\n",
       "\n",
       "    .dataframe thead th {\n",
       "        text-align: right;\n",
       "    }\n",
       "</style>\n",
       "<table border=\"1\" class=\"dataframe\">\n",
       "  <thead>\n",
       "    <tr style=\"text-align: right;\">\n",
       "      <th></th>\n",
       "      <th>Unnamed: 0</th>\n",
       "      <th>AuthorID</th>\n",
       "      <th>Title</th>\n",
       "      <th>Text</th>\n",
       "      <th>Ruling</th>\n",
       "      <th>CommentCount</th>\n",
       "      <th>Score</th>\n",
       "      <th>UpvoteRatio</th>\n",
       "    </tr>\n",
       "  </thead>\n",
       "  <tbody>\n",
       "    <tr>\n",
       "      <th>0</th>\n",
       "      <td>0</td>\n",
       "      <td>1</td>\n",
       "      <td>AITA for sleeping during the day?</td>\n",
       "      <td>I honestly thought what I was doing was fine, ...</td>\n",
       "      <td>Not the A-hole</td>\n",
       "      <td>34</td>\n",
       "      <td>7</td>\n",
       "      <td>0.82</td>\n",
       "    </tr>\n",
       "    <tr>\n",
       "      <th>1</th>\n",
       "      <td>2</td>\n",
       "      <td>0</td>\n",
       "      <td>AITAH for refusing to change out of my semi-se...</td>\n",
       "      <td>My boyfriend was FaceTiming his cousin and his...</td>\n",
       "      <td>Not the A-hole</td>\n",
       "      <td>23</td>\n",
       "      <td>8</td>\n",
       "      <td>0.78</td>\n",
       "    </tr>\n",
       "    <tr>\n",
       "      <th>2</th>\n",
       "      <td>6</td>\n",
       "      <td>2</td>\n",
       "      <td>AITA for not helping my neighbor?</td>\n",
       "      <td>I (M26) live in a large apartment complex with...</td>\n",
       "      <td>Not the A-hole</td>\n",
       "      <td>253</td>\n",
       "      <td>1016</td>\n",
       "      <td>0.97</td>\n",
       "    </tr>\n",
       "    <tr>\n",
       "      <th>3</th>\n",
       "      <td>9</td>\n",
       "      <td>3</td>\n",
       "      <td>AITA for threatening to lock my housemate's wi...</td>\n",
       "      <td>I'll keep it short; my housemate moved in arou...</td>\n",
       "      <td>Everyone Sucks</td>\n",
       "      <td>34</td>\n",
       "      <td>4</td>\n",
       "      <td>0.76</td>\n",
       "    </tr>\n",
       "    <tr>\n",
       "      <th>4</th>\n",
       "      <td>25</td>\n",
       "      <td>4</td>\n",
       "      <td>AITA for allowing my bio dad and his wife to b...</td>\n",
       "      <td>I found out that I am pregnant about 5 1/2 mon...</td>\n",
       "      <td>Not the A-hole</td>\n",
       "      <td>62</td>\n",
       "      <td>46</td>\n",
       "      <td>0.88</td>\n",
       "    </tr>\n",
       "  </tbody>\n",
       "</table>\n",
       "</div>"
      ],
      "text/plain": [
       "   Unnamed: 0  AuthorID                                              Title  \\\n",
       "0           0         1                  AITA for sleeping during the day?   \n",
       "1           2         0  AITAH for refusing to change out of my semi-se...   \n",
       "2           6         2                  AITA for not helping my neighbor?   \n",
       "3           9         3  AITA for threatening to lock my housemate's wi...   \n",
       "4          25         4  AITA for allowing my bio dad and his wife to b...   \n",
       "\n",
       "                                                Text          Ruling  \\\n",
       "0  I honestly thought what I was doing was fine, ...  Not the A-hole   \n",
       "1  My boyfriend was FaceTiming his cousin and his...  Not the A-hole   \n",
       "2  I (M26) live in a large apartment complex with...  Not the A-hole   \n",
       "3  I'll keep it short; my housemate moved in arou...  Everyone Sucks   \n",
       "4  I found out that I am pregnant about 5 1/2 mon...  Not the A-hole   \n",
       "\n",
       "   CommentCount  Score  UpvoteRatio  \n",
       "0            34      7         0.82  \n",
       "1            23      8         0.78  \n",
       "2           253   1016         0.97  \n",
       "3            34      4         0.76  \n",
       "4            62     46         0.88  "
      ]
     },
     "execution_count": 3,
     "metadata": {},
     "output_type": "execute_result"
    }
   ],
   "source": [
    "analysis_df.head()"
   ]
  },
  {
   "cell_type": "code",
   "execution_count": 4,
   "id": "36e48ea2",
   "metadata": {},
   "outputs": [
    {
     "name": "stdout",
     "output_type": "stream",
     "text": [
      "<class 'pandas.core.frame.DataFrame'>\n",
      "RangeIndex: 9414 entries, 0 to 9413\n",
      "Data columns (total 8 columns):\n",
      " #   Column        Non-Null Count  Dtype  \n",
      "---  ------        --------------  -----  \n",
      " 0   Unnamed: 0    9414 non-null   int64  \n",
      " 1   AuthorID      9414 non-null   int64  \n",
      " 2   Title         9414 non-null   object \n",
      " 3   Text          9414 non-null   object \n",
      " 4   Ruling        9414 non-null   object \n",
      " 5   CommentCount  9414 non-null   int64  \n",
      " 6   Score         9414 non-null   int64  \n",
      " 7   UpvoteRatio   9414 non-null   float64\n",
      "dtypes: float64(1), int64(4), object(3)\n",
      "memory usage: 588.5+ KB\n"
     ]
    }
   ],
   "source": [
    "analysis_df.info()"
   ]
  },
  {
   "cell_type": "markdown",
   "id": "40582b0f",
   "metadata": {},
   "source": [
    "Let's look at the breakdown of rulings:"
   ]
  },
  {
   "cell_type": "code",
   "execution_count": 5,
   "id": "f24e1b57",
   "metadata": {},
   "outputs": [
    {
     "data": {
      "text/plain": [
       "Not the A-hole     7180\n",
       "Asshole            1399\n",
       "No A-holes here     471\n",
       "Everyone Sucks      364\n",
       "Name: Ruling, dtype: int64"
      ]
     },
     "execution_count": 5,
     "metadata": {},
     "output_type": "execute_result"
    }
   ],
   "source": [
    "analysis_df.Ruling.value_counts()"
   ]
  },
  {
   "cell_type": "code",
   "execution_count": 6,
   "id": "d0d60d39",
   "metadata": {},
   "outputs": [
    {
     "data": {
      "image/png": "[encoded data removed]",
      "text/plain": [
       "<Figure size 640x480 with 1 Axes>"
      ]
     },
     "metadata": {},
     "output_type": "display_data"
    }
   ],
   "source": [
    "rulings_graph = plt.pie(analysis_df.Ruling.value_counts(), labels=[\"Not the A-hole\", \"Asshole\", \"No A-holes here\", \"Everyone Sucks\"])\n",
    "plt.show()"
   ]
  },
  {
   "cell_type": "markdown",
   "id": "604d428e",
   "metadata": {},
   "source": [
    "A vast majority of rulings believe that the poster is not the asshole. There's significantly less data for all the other rulings, but especially No Assholes here and Everyone Sucks Here. This makes sense, as the premise of the subreddit emphasizes the binary of were you good or bad in a situation, so the two more nuanced rulings have less usage."
   ]
  },
  {
   "cell_type": "markdown",
   "id": "8e9646bf",
   "metadata": {},
   "source": [
    "## Question: How much context and justification do the posters give?"
   ]
  },
  {
   "cell_type": "markdown",
   "id": "119c16e6",
   "metadata": {},
   "source": [
    "### Practically: How does post length vary between rulings?"
   ]
  },
  {
   "cell_type": "markdown",
   "id": "2e1f5fb1",
   "metadata": {},
   "source": [
    "Based on the subreddit's [Rules](https://www.reddit.com/r/AmItheAsshole/about/rules/), posts are limited to 3000 characters. However, not every story needs to take up that entire length to be told. Is there any meaningful variance between the overall post lengths of the four rulings? I could imagine that people trying to shake the blame off themselves would spend more time trying to justify their actions."
   ]
  },
  {
   "cell_type": "code",
   "execution_count": 7,
   "id": "ac116975",
   "metadata": {},
   "outputs": [],
   "source": [
    "analysis_df[\"Tokens\"] = analysis_df.Text.map(nltk.word_tokenize)\n",
    "analysis_df[\"TokenCount\"] = analysis_df.Tokens.map(lambda x: len(x))\n",
    "analysis_df[\"Sentences\"] = analysis_df.Text.map(nltk.sent_tokenize)"
   ]
  },
  {
   "cell_type": "code",
   "execution_count": 8,
   "id": "b92c89e0",
   "metadata": {},
   "outputs": [
    {
     "name": "stdout",
     "output_type": "stream",
     "text": [
      "                 TokenCount\n",
      "Ruling                     \n",
      "Asshole          421.760543\n",
      "Everyone Sucks   478.607143\n",
      "No A-holes here  383.898089\n",
      "Not the A-hole   445.821866\n"
     ]
    }
   ],
   "source": [
    "tokencount_compare = analysis_df.groupby(\"Ruling\")[\"TokenCount\"].mean()\n",
    "tokencount_compare = tokencount_compare.to_frame()\n",
    "print(tokencount_compare)"
   ]
  },
  {
   "cell_type": "code",
   "execution_count": 9,
   "id": "453e1b17",
   "metadata": {},
   "outputs": [
    {
     "data": {
      "image/png": "[encoded data removed]",
      "text/plain": [
       "<Figure size 500x500 with 1 Axes>"
      ]
     },
     "metadata": {},
     "output_type": "display_data"
    }
   ],
   "source": [
    "sns.catplot(x=\"Ruling\", y=\"TokenCount\", data=analysis_df, kind=\"box\")\n",
    "plt.show()"
   ]
  },
  {
   "cell_type": "markdown",
   "id": "72c976d4",
   "metadata": {},
   "source": [
    "This data shows that writers declared as Not the Asshole actually write the most on average. Perhaps this could imply that, instead of being perceived as trying to over-justify their actions, writing more simply provides a higher amount of context that allows readers to actually understand their position. Conversely, perhaps the low token count on No Assholes Here shows that there's not enough of a story being told to justify a ruling. Or, that a situation in itself is so small that you shouldn't even have to worry about it.\n",
    "\n",
    "Writers declared as Assholes seem to have the widest variance in how long each post is. This might suggest what I came into this test hypothesizing: that readers would be able to detect someone who is trying to overcompensate for their actions. This might also be attributed to a variety of other causes, though. Maybe some situations just need much more context to explain thoroughly."
   ]
  },
  {
   "cell_type": "code",
   "execution_count": 10,
   "id": "987d6828",
   "metadata": {},
   "outputs": [
    {
     "data": {
      "text/plain": [
       "F_onewayResult(statistic=28.19592519133767, pvalue=3.826423806329736e-18)"
      ]
     },
     "execution_count": 10,
     "metadata": {},
     "output_type": "execute_result"
    }
   ],
   "source": [
    "yta = analysis_df[(analysis_df.Ruling == \"Asshole\")].TokenCount\n",
    "nta = analysis_df[(analysis_df.Ruling == \"Not the A-hole\")].TokenCount\n",
    "nah = analysis_df[(analysis_df.Ruling == \"No A-holes here\")].TokenCount\n",
    "esh = analysis_df[(analysis_df.Ruling == \"Everyone Sucks\")].TokenCount\n",
    "\n",
    "stats.f_oneway(yta, nta, nah, esh)"
   ]
  },
  {
   "cell_type": "markdown",
   "id": "4cb3e49f",
   "metadata": {},
   "source": [
    "The one-way ANOVA shows there is some meaningful distinction between the groups.\n",
    "\n",
    "I'll also consider the length of the post title, as that's the first first impression people will have on the subject."
   ]
  },
  {
   "cell_type": "code",
   "execution_count": 11,
   "id": "7a79d3d1",
   "metadata": {},
   "outputs": [],
   "source": [
    "analysis_df[\"TitleTokens\"] = analysis_df.Title.map(nltk.word_tokenize)\n",
    "analysis_df[\"TitleTkCount\"] = analysis_df.TitleTokens.map(lambda x: len(x))"
   ]
  },
  {
   "cell_type": "code",
   "execution_count": 12,
   "id": "6f85801b",
   "metadata": {},
   "outputs": [
    {
     "name": "stdout",
     "output_type": "stream",
     "text": [
      "                 TitleTkCount\n",
      "Ruling                       \n",
      "Asshole             13.383846\n",
      "Everyone Sucks      12.618132\n",
      "No A-holes here     12.600849\n",
      "Not the A-hole      12.881894\n"
     ]
    }
   ],
   "source": [
    "tokencount_compare = analysis_df.groupby(\"Ruling\")[\"TitleTkCount\"].mean()\n",
    "tokencount_compare = tokencount_compare.to_frame()\n",
    "print(tokencount_compare)"
   ]
  },
  {
   "cell_type": "code",
   "execution_count": 13,
   "id": "bd3a95a7",
   "metadata": {},
   "outputs": [
    {
     "data": {
      "image/png": "[encoded data removed]",
      "text/plain": [
       "<Figure size 500x500 with 1 Axes>"
      ]
     },
     "metadata": {},
     "output_type": "display_data"
    }
   ],
   "source": [
    "sns.catplot(x=\"Ruling\", y=\"TitleTkCount\", data=analysis_df, kind=\"box\")\n",
    "plt.show()"
   ]
  },
  {
   "cell_type": "markdown",
   "id": "42c83c24",
   "metadata": {},
   "source": [
    "It makes sense that the differences between them are so minimal, since there's a strict limit of 300 characters on any Reddit post title. Visually, is also seems that there's so much variance in how many words are used that it's not very meaningful to analyze."
   ]
  },
  {
   "cell_type": "code",
   "execution_count": 14,
   "id": "6abff999",
   "metadata": {},
   "outputs": [
    {
     "data": {
      "text/plain": [
       "F_onewayResult(statistic=5.399421283656125, pvalue=0.0010390264201330663)"
      ]
     },
     "execution_count": 14,
     "metadata": {},
     "output_type": "execute_result"
    }
   ],
   "source": [
    "yta = analysis_df[analysis_df.Ruling == \"Asshole\"].TitleTkCount\n",
    "nta = analysis_df[analysis_df.Ruling == \"Not the A-hole\"].TitleTkCount\n",
    "nah = analysis_df[analysis_df.Ruling == \"No A-holes here\"].TitleTkCount\n",
    "esh = analysis_df[analysis_df.Ruling == \"Everyone Sucks\"].TitleTkCount\n",
    "\n",
    "stats.f_oneway(yta, nta, nah, esh)"
   ]
  },
  {
   "cell_type": "markdown",
   "id": "52e0a514",
   "metadata": {},
   "source": [
    "The one-way ANOVA here shows that not only is there not much meaningful distinction between the groups, and also there's a lot of in-group variance (as seen in the box plot)."
   ]
  },
  {
   "cell_type": "markdown",
   "id": "a4de69d9",
   "metadata": {},
   "source": [
    "## Question: Who do their stories focalize?"
   ]
  },
  {
   "cell_type": "markdown",
   "id": "648ed880",
   "metadata": {},
   "source": [
    "### Practically: Do the most common subjects of sentences vary between rulings?"
   ]
  },
  {
   "cell_type": "markdown",
   "id": "d2a2da05",
   "metadata": {},
   "source": [
    "Now I'm going to analyze what the common sentence subjects are within each post. Out of context, I anticipate that this may not provide the deepest look into the writing practices of each user, but I'm hoping this will set me up for some deeper analysis in later sections. This also seems like a reasonable task to start using [spaCy](https://spacy.io/) for the first time. SpaCy allows me to break each sentence down into tokens, and retrieve information like each token's part of speech and its dependencies. This allows me to isolate the noun head of each subject."
   ]
  },
  {
   "cell_type": "code",
   "execution_count": 16,
   "id": "38aa1746",
   "metadata": {},
   "outputs": [],
   "source": [
    "nlp = spacy.load('en_core_web_sm')"
   ]
  },
  {
   "cell_type": "code",
   "execution_count": 20,
   "id": "8a4e83fa",
   "metadata": {},
   "outputs": [],
   "source": [
    "analysis_df[\"SpacyText\"] = analysis_df[\"Text\"].apply(lambda x: nlp(x.lower()))"
   ]
  },
  {
   "cell_type": "markdown",
   "id": "aab08f4a",
   "metadata": {},
   "source": [
    "Before I do anything else I'm going to save so I don't have to run the Spacy pipeline on the data ever again. This took so long to process...\n",
    "\n",
    "There's some complications trying to save this all as one pickled DataFrame, so I'm just going to pull out the Docs generated by spaCy and rejoin them with the DataFrame whenever I need it."
   ]
  },
  {
   "cell_type": "code",
   "execution_count": 21,
   "id": "6710f515",
   "metadata": {},
   "outputs": [],
   "source": [
    "import pickle\n",
    "\n",
    "with open(\"../data/aita_internal_spacytext.pkl\", \"wb\") as f:\n",
    "    pickle.dump(analysis_df[\"SpacyText\"], f)"
   ]
  },
  {
   "cell_type": "markdown",
   "id": "8287b3e0",
   "metadata": {},
   "source": [
    "Quick check to see if that worked:"
   ]
  },
  {
   "cell_type": "code",
   "execution_count": 25,
   "id": "a7760b17",
   "metadata": {},
   "outputs": [
    {
     "name": "stdout",
     "output_type": "stream",
     "text": [
      "i honestly thought what i was doing was fine, but my dad’s been complaining about it a lot lately so i wanted to get some advice. i’m in my 20s, i work from home as a contracted freelancer, and while i have due dates for my work, i tend to do all of it later in the day or at night because the editors i work with don’t show up till like 3 or 4 pm, and they stick around well into the night. i do my chores and housework either very early in the morning before bed, late in the evening, or quietly at night. \n",
      "my dad’s been complaining and calling me lazy for spending all day in bed, though. i’m pretty active at night with my work and hobbies though, and unless i’m super busy i still make time for family, so i didn’t see it as an issue till i heard him yelling about it downstairs a little while ago. is it bad that i keep a sort of nocturnal schedule?\n"
     ]
    }
   ],
   "source": [
    "print(pkl_test.iloc[0])"
   ]
  },
  {
   "cell_type": "code",
   "execution_count": 27,
   "id": "fd3482e0",
   "metadata": {},
   "outputs": [
    {
     "name": "stdout",
     "output_type": "stream",
     "text": [
      "nsubj, advmod, ROOT, dobj, nsubj, aux, csubj, ccomp, acomp, punct, cc, poss, nsubj, aux, aux, conj, prep, pobj, det, npadvmod, advmod, mark, nsubj, advcl, aux, xcomp, det, dobj, punct, nsubj, ccomp, prep, poss, pobj, punct, nsubj, ROOT, prep, pobj, prep, det, amod, pobj, punct, cc, mark, nsubj, advcl, amod, dobj, prep, poss, pobj, punct, nsubj, conj, aux, xcomp, dobj, prep, pobj, advmod, prep, det, pobj, cc, conj, pobj, mark, det, nsubj, nsubj, relcl, prep, aux, neg, advcl, prt, prep, pcomp, nummod, cc, conj, pobj, punct, cc, nsubj, conj, advmod, advmod, prep, det, pobj, punct, nsubj, ROOT, poss, dobj, cc, conj, preconj, advmod, advmod, prep, det, pobj, prep, pobj, punct, advmod, prep, det, pobj, punct, cc, advmod, conj, pobj, punct, dep, poss, nsubj, aux, aux, ROOT, cc, conj, dobj, oprd, prep, pcomp, det, npadvmod, prep, pobj, punct, advmod, punct, nsubj, ccomp, advmod, acomp, prep, pobj, prep, poss, pobj, cc, conj, advmod, punct, cc, mark, nsubj, advcl, advmod, acomp, nsubj, advmod, conj, dobj, prep, pobj, punct, advmod, nsubj, aux, neg, ROOT, dobj, prep, det, pobj, mark, nsubj, advcl, nsubj, ccomp, prep, pobj, advmod, det, amod, npadvmod, advmod, punct, ROOT, nsubj, acomp, mark, nsubj, ccomp, det, dobj, prep, amod, pobj, punct, "
     ]
    }
   ],
   "source": [
    "with open(\"../data/aita_internal_spacytext.pkl\", \"rb\") as f:\n",
    "    pkl_test = pickle.load(f)\n",
    "\n",
    "for sent in pkl_test.iloc[0].sents:\n",
    "    for tok in sent:\n",
    "        print(tok.dep_, end=', ')\n",
    "\n",
    "del pkl_test"
   ]
  },
  {
   "cell_type": "markdown",
   "id": "9348f0be",
   "metadata": {},
   "source": [
    "Looks good!\n",
    "\n",
    "Moving on to the actual subjects. I will collect all subjects, which spaCy tags with one of two labels. \"nsubj\" is for active nominal subjects and \"nsubjpass\" is for passive nominal subjects."
   ]
  },
  {
   "cell_type": "code",
   "execution_count": 33,
   "id": "24ebeb9f",
   "metadata": {
    "scrolled": false
   },
   "outputs": [
    {
     "data": {
      "text/html": [
       "<div>\n",
       "<style scoped>\n",
       "    .dataframe tbody tr th:only-of-type {\n",
       "        vertical-align: middle;\n",
       "    }\n",
       "\n",
       "    .dataframe tbody tr th {\n",
       "        vertical-align: top;\n",
       "    }\n",
       "\n",
       "    .dataframe thead th {\n",
       "        text-align: right;\n",
       "    }\n",
       "</style>\n",
       "<table border=\"1\" class=\"dataframe\">\n",
       "  <thead>\n",
       "    <tr style=\"text-align: right;\">\n",
       "      <th></th>\n",
       "      <th>Unnamed: 0</th>\n",
       "      <th>AuthorID</th>\n",
       "      <th>Title</th>\n",
       "      <th>Text</th>\n",
       "      <th>Ruling</th>\n",
       "      <th>CommentCount</th>\n",
       "      <th>Score</th>\n",
       "      <th>UpvoteRatio</th>\n",
       "      <th>Tokens</th>\n",
       "      <th>TokenCount</th>\n",
       "      <th>Sentences</th>\n",
       "      <th>TitleTokens</th>\n",
       "      <th>TitleTkCount</th>\n",
       "      <th>SpacyText</th>\n",
       "      <th>Subjects</th>\n",
       "    </tr>\n",
       "  </thead>\n",
       "  <tbody>\n",
       "    <tr>\n",
       "      <th>0</th>\n",
       "      <td>0</td>\n",
       "      <td>1</td>\n",
       "      <td>AITA for sleeping during the day?</td>\n",
       "      <td>I honestly thought what I was doing was fine, ...</td>\n",
       "      <td>Not the A-hole</td>\n",
       "      <td>34</td>\n",
       "      <td>7</td>\n",
       "      <td>0.82</td>\n",
       "      <td>[I, honestly, thought, what, I, was, doing, wa...</td>\n",
       "      <td>204</td>\n",
       "      <td>[I honestly thought what I was doing was fine,...</td>\n",
       "      <td>[AITA, for, sleeping, during, the, day, ?]</td>\n",
       "      <td>7</td>\n",
       "      <td>(i, honestly, thought, what, i, was, doing, wa...</td>\n",
       "      <td>[i, i, dad, i, i, i, i, i, editors, i, they, i...</td>\n",
       "    </tr>\n",
       "    <tr>\n",
       "      <th>1</th>\n",
       "      <td>2</td>\n",
       "      <td>0</td>\n",
       "      <td>AITAH for refusing to change out of my semi-se...</td>\n",
       "      <td>My boyfriend was FaceTiming his cousin and his...</td>\n",
       "      <td>Not the A-hole</td>\n",
       "      <td>23</td>\n",
       "      <td>8</td>\n",
       "      <td>0.78</td>\n",
       "      <td>[My, boyfriend, was, FaceTiming, his, cousin, ...</td>\n",
       "      <td>339</td>\n",
       "      <td>[My boyfriend was FaceTiming his cousin and hi...</td>\n",
       "      <td>[AITAH, for, refusing, to, change, out, of, my...</td>\n",
       "      <td>13</td>\n",
       "      <td>(my, boyfriend, was, facetiming, his, cousin, ...</td>\n",
       "      <td>[boyfriend, they, i, i, i, it, i, i, he, you, ...</td>\n",
       "    </tr>\n",
       "    <tr>\n",
       "      <th>2</th>\n",
       "      <td>6</td>\n",
       "      <td>2</td>\n",
       "      <td>AITA for not helping my neighbor?</td>\n",
       "      <td>I (M26) live in a large apartment complex with...</td>\n",
       "      <td>Not the A-hole</td>\n",
       "      <td>253</td>\n",
       "      <td>1016</td>\n",
       "      <td>0.97</td>\n",
       "      <td>[I, (, M26, ), live, in, a, large, apartment, ...</td>\n",
       "      <td>570</td>\n",
       "      <td>[I (M26) live in a large apartment complex wit...</td>\n",
       "      <td>[AITA, for, not, helping, my, neighbor, ?]</td>\n",
       "      <td>7</td>\n",
       "      <td>(i, (, m26, ), live, in, a, large, apartment, ...</td>\n",
       "      <td>[i, i, which, it, i, i, units, that, i, guy, d...</td>\n",
       "    </tr>\n",
       "    <tr>\n",
       "      <th>3</th>\n",
       "      <td>9</td>\n",
       "      <td>3</td>\n",
       "      <td>AITA for threatening to lock my housemate's wi...</td>\n",
       "      <td>I'll keep it short; my housemate moved in arou...</td>\n",
       "      <td>Everyone Sucks</td>\n",
       "      <td>34</td>\n",
       "      <td>4</td>\n",
       "      <td>0.76</td>\n",
       "      <td>[I, 'll, keep, it, short, ;, my, housemate, mo...</td>\n",
       "      <td>390</td>\n",
       "      <td>[I'll keep it short; my housemate moved in aro...</td>\n",
       "      <td>[AITA, for, threatening, to, lock, my, housema...</td>\n",
       "      <td>15</td>\n",
       "      <td>(i, 'll, keep, it, short, ;, my, housemate, mo...</td>\n",
       "      <td>[i, housemate, he, that, i, he, he, i, he, tha...</td>\n",
       "    </tr>\n",
       "    <tr>\n",
       "      <th>4</th>\n",
       "      <td>25</td>\n",
       "      <td>4</td>\n",
       "      <td>AITA for allowing my bio dad and his wife to b...</td>\n",
       "      <td>I found out that I am pregnant about 5 1/2 mon...</td>\n",
       "      <td>Not the A-hole</td>\n",
       "      <td>62</td>\n",
       "      <td>46</td>\n",
       "      <td>0.88</td>\n",
       "      <td>[I, found, out, that, I, am, pregnant, about, ...</td>\n",
       "      <td>408</td>\n",
       "      <td>[I found out that I am pregnant about 5 1/2 mo...</td>\n",
       "      <td>[AITA, for, allowing, my, bio, dad, and, his, ...</td>\n",
       "      <td>16</td>\n",
       "      <td>(i, found, out, that, i, am, pregnant, about, ...</td>\n",
       "      <td>[i, i, i, i, mom, she, she, i, who, some, i, i...</td>\n",
       "    </tr>\n",
       "    <tr>\n",
       "      <th>5</th>\n",
       "      <td>29</td>\n",
       "      <td>5</td>\n",
       "      <td>WIBTA for confronting my dad about skipping Ch...</td>\n",
       "      <td>My (31F) parents (55F) and (63M) have been sep...</td>\n",
       "      <td>Not the A-hole</td>\n",
       "      <td>20</td>\n",
       "      <td>3</td>\n",
       "      <td>0.81</td>\n",
       "      <td>[My, (, 31F, ), parents, (, 55F, ), and, (, 63...</td>\n",
       "      <td>583</td>\n",
       "      <td>[My (31F) parents (55F) and (63M) have been se...</td>\n",
       "      <td>[WIBTA, for, confronting, my, dad, about, skip...</td>\n",
       "      <td>8</td>\n",
       "      <td>(my, (, 31f, ), parents, (, 55f, ), and, (, 63...</td>\n",
       "      <td>[parents, i, they, it, i, i, i, husband, that,...</td>\n",
       "    </tr>\n",
       "    <tr>\n",
       "      <th>6</th>\n",
       "      <td>39</td>\n",
       "      <td>6</td>\n",
       "      <td>WIBTA if on a day trip with friends I opt out ...</td>\n",
       "      <td>I (26F) live in the US and my friend from anot...</td>\n",
       "      <td>Not the A-hole</td>\n",
       "      <td>10</td>\n",
       "      <td>8</td>\n",
       "      <td>1.00</td>\n",
       "      <td>[I, (, 26F, ), live, in, the, US, and, my, fri...</td>\n",
       "      <td>260</td>\n",
       "      <td>[I (26F) live in the US and my friend from ano...</td>\n",
       "      <td>[WIBTA, if, on, a, day, trip, with, friends, I...</td>\n",
       "      <td>16</td>\n",
       "      <td>(i, (, 26f, ), live, in, the, us, and, my, fri...</td>\n",
       "      <td>[i, we, her, she, i, it, we, she, she, activit...</td>\n",
       "    </tr>\n",
       "    <tr>\n",
       "      <th>7</th>\n",
       "      <td>41</td>\n",
       "      <td>7</td>\n",
       "      <td>WIBTA for not celebrating Christmas with my bo...</td>\n",
       "      <td>**edit #1**: Nancy is hosting Christmas dinner...</td>\n",
       "      <td>Not the A-hole</td>\n",
       "      <td>12</td>\n",
       "      <td>3</td>\n",
       "      <td>0.80</td>\n",
       "      <td>[*, *, edit, #, 1, *, *, :, Nancy, is, hosting...</td>\n",
       "      <td>336</td>\n",
       "      <td>[**edit #1**: Nancy is hosting Christmas dinne...</td>\n",
       "      <td>[WIBTA, for, not, celebrating, Christmas, with...</td>\n",
       "      <td>16</td>\n",
       "      <td>(*, *, edit, #, 1, *, *, :, nancy, is, hosting...</td>\n",
       "      <td>[*, nancy, it, boyfriend, christmas, it, we, h...</td>\n",
       "    </tr>\n",
       "    <tr>\n",
       "      <th>8</th>\n",
       "      <td>42</td>\n",
       "      <td>8</td>\n",
       "      <td>AITA for being annoyed that my friend is visit...</td>\n",
       "      <td>I (38f) have two friends from university: Sue ...</td>\n",
       "      <td>Asshole</td>\n",
       "      <td>27</td>\n",
       "      <td>3</td>\n",
       "      <td>0.58</td>\n",
       "      <td>[I, (, 38f, ), have, two, friends, from, unive...</td>\n",
       "      <td>604</td>\n",
       "      <td>[I (38f) have two friends from university: Sue...</td>\n",
       "      <td>[AITA, for, being, annoyed, that, my, friend, ...</td>\n",
       "      <td>15</td>\n",
       "      <td>(i, (, 38f, ), have, two, friends, from, unive...</td>\n",
       "      <td>[i, meg, i, we, i, i, i, baby, i, i, summer, m...</td>\n",
       "    </tr>\n",
       "    <tr>\n",
       "      <th>9</th>\n",
       "      <td>46</td>\n",
       "      <td>9</td>\n",
       "      <td>AITA for getting upset when my roommate’s part...</td>\n",
       "      <td>Keeping this anon cause I’m not trying to put ...</td>\n",
       "      <td>Not the A-hole</td>\n",
       "      <td>277</td>\n",
       "      <td>2914</td>\n",
       "      <td>0.97</td>\n",
       "      <td>[Keeping, this, anon, cause, I, ’, m, not, try...</td>\n",
       "      <td>311</td>\n",
       "      <td>[Keeping this anon cause I’m not trying to put...</td>\n",
       "      <td>[AITA, for, getting, upset, when, my, roommate...</td>\n",
       "      <td>15</td>\n",
       "      <td>(keeping, this, anon, cause, i, ’m, not, tryin...</td>\n",
       "      <td>[i, situation, roommate, this, i, it, we, i, p...</td>\n",
       "    </tr>\n",
       "  </tbody>\n",
       "</table>\n",
       "</div>"
      ],
      "text/plain": [
       "   Unnamed: 0  AuthorID                                              Title  \\\n",
       "0           0         1                  AITA for sleeping during the day?   \n",
       "1           2         0  AITAH for refusing to change out of my semi-se...   \n",
       "2           6         2                  AITA for not helping my neighbor?   \n",
       "3           9         3  AITA for threatening to lock my housemate's wi...   \n",
       "4          25         4  AITA for allowing my bio dad and his wife to b...   \n",
       "5          29         5  WIBTA for confronting my dad about skipping Ch...   \n",
       "6          39         6  WIBTA if on a day trip with friends I opt out ...   \n",
       "7          41         7  WIBTA for not celebrating Christmas with my bo...   \n",
       "8          42         8  AITA for being annoyed that my friend is visit...   \n",
       "9          46         9  AITA for getting upset when my roommate’s part...   \n",
       "\n",
       "                                                Text          Ruling  \\\n",
       "0  I honestly thought what I was doing was fine, ...  Not the A-hole   \n",
       "1  My boyfriend was FaceTiming his cousin and his...  Not the A-hole   \n",
       "2  I (M26) live in a large apartment complex with...  Not the A-hole   \n",
       "3  I'll keep it short; my housemate moved in arou...  Everyone Sucks   \n",
       "4  I found out that I am pregnant about 5 1/2 mon...  Not the A-hole   \n",
       "5  My (31F) parents (55F) and (63M) have been sep...  Not the A-hole   \n",
       "6  I (26F) live in the US and my friend from anot...  Not the A-hole   \n",
       "7  **edit #1**: Nancy is hosting Christmas dinner...  Not the A-hole   \n",
       "8  I (38f) have two friends from university: Sue ...         Asshole   \n",
       "9  Keeping this anon cause I’m not trying to put ...  Not the A-hole   \n",
       "\n",
       "   CommentCount  Score  UpvoteRatio  \\\n",
       "0            34      7         0.82   \n",
       "1            23      8         0.78   \n",
       "2           253   1016         0.97   \n",
       "3            34      4         0.76   \n",
       "4            62     46         0.88   \n",
       "5            20      3         0.81   \n",
       "6            10      8         1.00   \n",
       "7            12      3         0.80   \n",
       "8            27      3         0.58   \n",
       "9           277   2914         0.97   \n",
       "\n",
       "                                              Tokens  TokenCount  \\\n",
       "0  [I, honestly, thought, what, I, was, doing, wa...         204   \n",
       "1  [My, boyfriend, was, FaceTiming, his, cousin, ...         339   \n",
       "2  [I, (, M26, ), live, in, a, large, apartment, ...         570   \n",
       "3  [I, 'll, keep, it, short, ;, my, housemate, mo...         390   \n",
       "4  [I, found, out, that, I, am, pregnant, about, ...         408   \n",
       "5  [My, (, 31F, ), parents, (, 55F, ), and, (, 63...         583   \n",
       "6  [I, (, 26F, ), live, in, the, US, and, my, fri...         260   \n",
       "7  [*, *, edit, #, 1, *, *, :, Nancy, is, hosting...         336   \n",
       "8  [I, (, 38f, ), have, two, friends, from, unive...         604   \n",
       "9  [Keeping, this, anon, cause, I, ’, m, not, try...         311   \n",
       "\n",
       "                                           Sentences  \\\n",
       "0  [I honestly thought what I was doing was fine,...   \n",
       "1  [My boyfriend was FaceTiming his cousin and hi...   \n",
       "2  [I (M26) live in a large apartment complex wit...   \n",
       "3  [I'll keep it short; my housemate moved in aro...   \n",
       "4  [I found out that I am pregnant about 5 1/2 mo...   \n",
       "5  [My (31F) parents (55F) and (63M) have been se...   \n",
       "6  [I (26F) live in the US and my friend from ano...   \n",
       "7  [**edit #1**: Nancy is hosting Christmas dinne...   \n",
       "8  [I (38f) have two friends from university: Sue...   \n",
       "9  [Keeping this anon cause I’m not trying to put...   \n",
       "\n",
       "                                         TitleTokens  TitleTkCount  \\\n",
       "0         [AITA, for, sleeping, during, the, day, ?]             7   \n",
       "1  [AITAH, for, refusing, to, change, out, of, my...            13   \n",
       "2         [AITA, for, not, helping, my, neighbor, ?]             7   \n",
       "3  [AITA, for, threatening, to, lock, my, housema...            15   \n",
       "4  [AITA, for, allowing, my, bio, dad, and, his, ...            16   \n",
       "5  [WIBTA, for, confronting, my, dad, about, skip...             8   \n",
       "6  [WIBTA, if, on, a, day, trip, with, friends, I...            16   \n",
       "7  [WIBTA, for, not, celebrating, Christmas, with...            16   \n",
       "8  [AITA, for, being, annoyed, that, my, friend, ...            15   \n",
       "9  [AITA, for, getting, upset, when, my, roommate...            15   \n",
       "\n",
       "                                           SpacyText  \\\n",
       "0  (i, honestly, thought, what, i, was, doing, wa...   \n",
       "1  (my, boyfriend, was, facetiming, his, cousin, ...   \n",
       "2  (i, (, m26, ), live, in, a, large, apartment, ...   \n",
       "3  (i, 'll, keep, it, short, ;, my, housemate, mo...   \n",
       "4  (i, found, out, that, i, am, pregnant, about, ...   \n",
       "5  (my, (, 31f, ), parents, (, 55f, ), and, (, 63...   \n",
       "6  (i, (, 26f, ), live, in, the, us, and, my, fri...   \n",
       "7  (*, *, edit, #, 1, *, *, :, nancy, is, hosting...   \n",
       "8  (i, (, 38f, ), have, two, friends, from, unive...   \n",
       "9  (keeping, this, anon, cause, i, ’m, not, tryin...   \n",
       "\n",
       "                                            Subjects  \n",
       "0  [i, i, dad, i, i, i, i, i, editors, i, they, i...  \n",
       "1  [boyfriend, they, i, i, i, it, i, i, he, you, ...  \n",
       "2  [i, i, which, it, i, i, units, that, i, guy, d...  \n",
       "3  [i, housemate, he, that, i, he, he, i, he, tha...  \n",
       "4  [i, i, i, i, mom, she, she, i, who, some, i, i...  \n",
       "5  [parents, i, they, it, i, i, i, husband, that,...  \n",
       "6  [i, we, her, she, i, it, we, she, she, activit...  \n",
       "7  [*, nancy, it, boyfriend, christmas, it, we, h...  \n",
       "8  [i, meg, i, we, i, i, i, baby, i, i, summer, m...  \n",
       "9  [i, situation, roommate, this, i, it, we, i, p...  "
      ]
     },
     "execution_count": 33,
     "metadata": {},
     "output_type": "execute_result"
    }
   ],
   "source": [
    "# For every sentence, go through each token and find if it is a nominal subject. If it's a nominal subject, save it.\n",
    "analysis_df[\"Subjects\"] = analysis_df[\"SpacyText\"].apply(lambda x: [[tok for tok in sent if (tok.dep_ == \"nsubj\" or tok.dep_ == \"nsubjpass\")] for sent in x.sents])\n",
    "analysis_df[\"Subjects\"] = analysis_df.Subjects.map(lambda x: sum(x, [])) # This is an array of arrays, I want to unpack into just 1 array\n",
    "\n",
    "analysis_df.head(10)"
   ]
  },
  {
   "cell_type": "markdown",
   "id": "304b7102",
   "metadata": {},
   "source": [
    "This function takes in a ruling and returns a dictionary of the top _n_ subjects found across that ruling. Let's see how they vary between rulings."
   ]
  },
  {
   "cell_type": "code",
   "execution_count": 34,
   "id": "63a03850",
   "metadata": {},
   "outputs": [],
   "source": [
    "def count_subjects_per_ruling(ruling, number):\n",
    "    ruling_rows = analysis_df[analysis_df[\"Ruling\"] == ruling]\n",
    "    ruling_subjects = ruling_rows[\"Subjects\"].tolist()\n",
    "    subjects_count = {}\n",
    "    for arr in ruling_subjects:\n",
    "        for subj in arr:\n",
    "            subjects_count[str(subj)] = subjects_count.get(str(subj), 0) + 1\n",
    "    \n",
    "    sort_subjects = sorted(subjects_count.items(), key=lambda x:x[1], reverse=True)\n",
    "    subjects_count = dict(sort_subjects)\n",
    "    top_subjects = {i: subjects_count[i] for i in list(subjects_count)[:number]}\n",
    "    return top_subjects"
   ]
  },
  {
   "cell_type": "code",
   "execution_count": 35,
   "id": "88a17b3a",
   "metadata": {
    "scrolled": true
   },
   "outputs": [
    {
     "name": "stdout",
     "output_type": "stream",
     "text": [
      "Not the A-hole:  {'i': 136113, 'she': 40361, 'he': 32276, 'it': 22548, 'we': 21881, 'they': 15170, 'that': 7130, 'you': 5270, 'me': 5203, 'this': 4736, 'who': 3665, 'mom': 3293, 'which': 2489, 'her': 2396, 'dad': 1985, 'sister': 1874, 'parents': 1777, 'him': 1728, 'one': 1449, 'husband': 1442, 'friend': 1425, 'brother': 1378, 'what': 1344, 'mother': 1253, 'family': 1164, 'people': 1108, 'everyone': 949, 'them': 923, 'wife': 916, 'things': 744}\n",
      "\n",
      "Asshole:  {'i': 24697, 'she': 8683, 'he': 5550, 'it': 4276, 'we': 4120, 'they': 2477, 'that': 1370, 'this': 985, 'you': 936, 'me': 922, 'who': 710, 'her': 497, 'mom': 495, 'which': 466, 'parents': 334, 'wife': 334, 'him': 333, 'friend': 329, 'one': 286, 'sister': 285, 'dad': 283, 'what': 280, 'husband': 271, 'people': 264, 'brother': 262, 'everyone': 190, 'son': 185, 'daughter': 174, 'family': 166, 'them': 158}\n",
      "\n",
      "No A-holes here:  {'i': 8108, 'she': 2258, 'he': 1710, 'we': 1341, 'it': 1290, 'they': 754, 'that': 421, 'this': 306, 'me': 295, 'you': 221, 'who': 176, 'which': 154, 'her': 148, 'mom': 127, 'him': 102, 'friend': 102, 'dad': 95, 'one': 83, 'parents': 82, 'husband': 81, 'wife': 75, 'sister': 75, 'family': 74, 'brother': 71, 'people': 69, 'what': 62, 'them': 62, 'everyone': 46, 'mother': 44, 'boyfriend': 42}\n",
      "\n",
      "Everyone Sucks:  {'i': 7389, 'she': 2240, 'he': 1867, 'we': 1295, 'it': 1201, 'they': 636, 'you': 456, 'that': 381, 'me': 346, 'this': 256, 'who': 203, 'which': 169, 'her': 152, 'mom': 138, 'sister': 124, 'husband': 121, 'him': 106, 'friend': 105, 'what': 86, 'one': 83, 'parents': 77, 'dad': 76, 'people': 54, 'everyone': 53, 'family': 51, 'brother': 48, 'mother': 45, 'friends': 41, 'them': 38, 'all': 38}\n"
     ]
    }
   ],
   "source": [
    "nta = count_subjects_per_ruling(\"Not the A-hole\", 30)\n",
    "yta = count_subjects_per_ruling(\"Asshole\", 30)\n",
    "nah = count_subjects_per_ruling(\"No A-holes here\", 30)\n",
    "esh = count_subjects_per_ruling(\"Everyone Sucks\", 30)\n",
    "print(\"Not the A-hole: \", nta)\n",
    "print()\n",
    "print(\"Asshole: \", yta)\n",
    "print()\n",
    "print(\"No A-holes here: \", nah)\n",
    "print()\n",
    "print(\"Everyone Sucks: \", esh)"
   ]
  },
  {
   "cell_type": "markdown",
   "id": "0828a4b3",
   "metadata": {},
   "source": [
    "_(Write analysis later - makes sense that the top subjects are just pronouns and the terms for people you'd care about slighting. It's a tiny thing but it's kinda funny that No A-holes and Everyone Sucks has \"we\" just so slightly higher than the other two. Also that \"wife\" is so much higher for Assholes than Not the A-holes? This isn't just a project on blame analysis, but I guess a project on reader biases and who we automatically take the sides for. Or the men on here just suck more. We'll see.)_"
   ]
  },
  {
   "cell_type": "code",
   "execution_count": 77,
   "id": "cab962c2",
   "metadata": {},
   "outputs": [],
   "source": [
    "analysis_df.drop(\"SpacyText\", axis=1, inplace=True)\n",
    "analysis_df.drop(\"Subjects\", axis=1, inplace=True)\n",
    "analysis_df.to_csv(\"../data/aita_working_df.csv\")"
   ]
  },
  {
   "cell_type": "markdown",
   "id": "96804430",
   "metadata": {},
   "source": [
    "## Question: How much agency does the writer express?"
   ]
  },
  {
   "cell_type": "markdown",
   "id": "19086259",
   "metadata": {},
   "source": [
    "### Practically: What proportion of sentences is written in passive voice? And, who are the subjects of active versus passive sentences?"
   ]
  }
 ],
 "metadata": {
  "kernelspec": {
   "display_name": "Python 3 (ipykernel)",
   "language": "python",
   "name": "python3"
  },
  "language_info": {
   "codemirror_mode": {
    "name": "ipython",
    "version": 3
   },
   "file_extension": ".py",
   "mimetype": "text/x-python",
   "name": "python",
   "nbconvert_exporter": "python",
   "pygments_lexer": "ipython3",
   "version": "3.9.13"
  }
 },
 "nbformat": 4,
 "nbformat_minor": 5
}
